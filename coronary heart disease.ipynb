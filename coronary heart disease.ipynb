{
 "cells": [
  {
   "cell_type": "markdown",
   "id": "8fd22248-116f-410f-81d5-b74e70e0660b",
   "metadata": {},
   "source": [
    "# Problem"
   ]
  },
  {
   "cell_type": "markdown",
   "id": "56f4d619-eb13-4042-bf3d-55d072360537",
   "metadata": {},
   "source": [
    "A healthcare organization together with couple of government hospitals in a city has collected information about the vitals that would reveal if the person might have a coronary heart disease in the next ten years or not. This study is useful in early identifiaction of disease and have medical intervention if necessary. This would help not only in improving thr health conditions but also the economy as it has been identified that health performance and economic performance are interlinked."
   ]
  },
  {
   "cell_type": "markdown",
   "id": "1ca05b0e-da19-489a-93dd-a6d12b47bbe2",
   "metadata": {},
   "source": [
    "## Task and Approch"
   ]
  },
  {
   "cell_type": "markdown",
   "id": "d402929d-03c0-43fb-be21-152072c12a5c",
   "metadata": {},
   "source": [
    "The task is to construct a classification model based on available data and evaluate its efficiency.\n",
    "Preparing the dataset for analysis, checking for any correlation, creating a model, and evaluating the performance of the classification model."
   ]
  },
  {
   "cell_type": "markdown",
   "id": "8d7a7659-b679-4969-9bd1-f46e5e065611",
   "metadata": {},
   "source": [
    "## Import the dependencies and understanding the data"
   ]
  },
  {
   "cell_type": "markdown",
   "id": "98f41c1f-44ec-4290-b73b-dcc7c2e1d210",
   "metadata": {},
   "source": [
    "pandas , seaborn and matplotlib.pyplot are imported with aliases pd, sns and plt respectively"
   ]
  },
  {
   "cell_type": "code",
   "execution_count": 1,
   "id": "cff4095b-4ccd-46a6-bbee-31aa028749ef",
   "metadata": {},
   "outputs": [],
   "source": [
    "# Data analysis\n",
    "import pandas as pd\n",
    "# Visualization and Plotting\n",
    "import matplotlib.pyplot as plt\n",
    "# Ignore warnings\n",
    "import warnings\n",
    "warnings.filterwarnings('ignore')"
   ]
  },
  {
   "cell_type": "code",
   "execution_count": 2,
   "id": "545812c5-c753-43f4-8e83-617401e047f2",
   "metadata": {},
   "outputs": [
    {
     "data": {
      "text/html": [
       "<div>\n",
       "<style scoped>\n",
       "    .dataframe tbody tr th:only-of-type {\n",
       "        vertical-align: middle;\n",
       "    }\n",
       "\n",
       "    .dataframe tbody tr th {\n",
       "        vertical-align: top;\n",
       "    }\n",
       "\n",
       "    .dataframe thead th {\n",
       "        text-align: right;\n",
       "    }\n",
       "</style>\n",
       "<table border=\"1\" class=\"dataframe\">\n",
       "  <thead>\n",
       "    <tr style=\"text-align: right;\">\n",
       "      <th></th>\n",
       "      <th>ID</th>\n",
       "      <th>IV</th>\n",
       "      <th>A1</th>\n",
       "      <th>A2</th>\n",
       "      <th>A3</th>\n",
       "      <th>A4</th>\n",
       "      <th>A5</th>\n",
       "      <th>A6</th>\n",
       "      <th>A7</th>\n",
       "      <th>A8</th>\n",
       "      <th>...</th>\n",
       "      <th>A14</th>\n",
       "      <th>A15</th>\n",
       "      <th>A16</th>\n",
       "      <th>A17</th>\n",
       "      <th>A18</th>\n",
       "      <th>A19</th>\n",
       "      <th>A20</th>\n",
       "      <th>A21</th>\n",
       "      <th>A22</th>\n",
       "      <th>Target</th>\n",
       "    </tr>\n",
       "  </thead>\n",
       "  <tbody>\n",
       "    <tr>\n",
       "      <th>0</th>\n",
       "      <td>1443894</td>\n",
       "      <td>2049</td>\n",
       "      <td>44</td>\n",
       "      <td>8.0</td>\n",
       "      <td>11</td>\n",
       "      <td>0</td>\n",
       "      <td>0</td>\n",
       "      <td>0</td>\n",
       "      <td>0</td>\n",
       "      <td>38</td>\n",
       "      <td>...</td>\n",
       "      <td>0</td>\n",
       "      <td>0.52</td>\n",
       "      <td>0.69</td>\n",
       "      <td>0</td>\n",
       "      <td>0</td>\n",
       "      <td>0</td>\n",
       "      <td>1</td>\n",
       "      <td>17.078971</td>\n",
       "      <td>0</td>\n",
       "      <td>0</td>\n",
       "    </tr>\n",
       "    <tr>\n",
       "      <th>1</th>\n",
       "      <td>1810849</td>\n",
       "      <td>48</td>\n",
       "      <td>0</td>\n",
       "      <td>8.0</td>\n",
       "      <td>0</td>\n",
       "      <td>0</td>\n",
       "      <td>0</td>\n",
       "      <td>0</td>\n",
       "      <td>0</td>\n",
       "      <td>1</td>\n",
       "      <td>...</td>\n",
       "      <td>0</td>\n",
       "      <td>0.59</td>\n",
       "      <td>0.78</td>\n",
       "      <td>1</td>\n",
       "      <td>0</td>\n",
       "      <td>0</td>\n",
       "      <td>1</td>\n",
       "      <td>17.022384</td>\n",
       "      <td>0</td>\n",
       "      <td>0</td>\n",
       "    </tr>\n",
       "    <tr>\n",
       "      <th>2</th>\n",
       "      <td>2264999</td>\n",
       "      <td>318</td>\n",
       "      <td>2</td>\n",
       "      <td>9.0</td>\n",
       "      <td>0</td>\n",
       "      <td>0</td>\n",
       "      <td>0</td>\n",
       "      <td>0</td>\n",
       "      <td>0</td>\n",
       "      <td>0</td>\n",
       "      <td>...</td>\n",
       "      <td>0</td>\n",
       "      <td>0.94</td>\n",
       "      <td>0.79</td>\n",
       "      <td>1</td>\n",
       "      <td>0</td>\n",
       "      <td>0</td>\n",
       "      <td>0</td>\n",
       "      <td>17.024773</td>\n",
       "      <td>0</td>\n",
       "      <td>0</td>\n",
       "    </tr>\n",
       "    <tr>\n",
       "      <th>3</th>\n",
       "      <td>1931676</td>\n",
       "      <td>62</td>\n",
       "      <td>4</td>\n",
       "      <td>2.0</td>\n",
       "      <td>0</td>\n",
       "      <td>0</td>\n",
       "      <td>0</td>\n",
       "      <td>15</td>\n",
       "      <td>30</td>\n",
       "      <td>7</td>\n",
       "      <td>...</td>\n",
       "      <td>0</td>\n",
       "      <td>0.51</td>\n",
       "      <td>0.47</td>\n",
       "      <td>0</td>\n",
       "      <td>0</td>\n",
       "      <td>0</td>\n",
       "      <td>1</td>\n",
       "      <td>17.074995</td>\n",
       "      <td>0</td>\n",
       "      <td>0</td>\n",
       "    </tr>\n",
       "    <tr>\n",
       "      <th>4</th>\n",
       "      <td>2070885</td>\n",
       "      <td>2</td>\n",
       "      <td>0</td>\n",
       "      <td>8.0</td>\n",
       "      <td>0</td>\n",
       "      <td>0</td>\n",
       "      <td>0</td>\n",
       "      <td>0</td>\n",
       "      <td>1</td>\n",
       "      <td>0</td>\n",
       "      <td>...</td>\n",
       "      <td>0</td>\n",
       "      <td>0.82</td>\n",
       "      <td>0.81</td>\n",
       "      <td>0</td>\n",
       "      <td>0</td>\n",
       "      <td>0</td>\n",
       "      <td>1</td>\n",
       "      <td>17.072697</td>\n",
       "      <td>0</td>\n",
       "      <td>0</td>\n",
       "    </tr>\n",
       "  </tbody>\n",
       "</table>\n",
       "<p>5 rows × 25 columns</p>\n",
       "</div>"
      ],
      "text/plain": [
       "        ID    IV  A1   A2  A3  A4  A5  A6  A7  A8  ...  A14   A15   A16  A17  \\\n",
       "0  1443894  2049  44  8.0  11   0   0   0   0  38  ...    0  0.52  0.69    0   \n",
       "1  1810849    48   0  8.0   0   0   0   0   0   1  ...    0  0.59  0.78    1   \n",
       "2  2264999   318   2  9.0   0   0   0   0   0   0  ...    0  0.94  0.79    1   \n",
       "3  1931676    62   4  2.0   0   0   0  15  30   7  ...    0  0.51  0.47    0   \n",
       "4  2070885     2   0  8.0   0   0   0   0   1   0  ...    0  0.82  0.81    0   \n",
       "\n",
       "   A18  A19  A20        A21  A22  Target  \n",
       "0    0    0    1  17.078971    0       0  \n",
       "1    0    0    1  17.022384    0       0  \n",
       "2    0    0    0  17.024773    0       0  \n",
       "3    0    0    1  17.074995    0       0  \n",
       "4    0    0    1  17.072697    0       0  \n",
       "\n",
       "[5 rows x 25 columns]"
      ]
     },
     "execution_count": 2,
     "metadata": {},
     "output_type": "execute_result"
    }
   ],
   "source": [
    "# Import the dataset to a pandas dataframe\n",
    "df=pd.read_csv(\"Project Dataset.csv\")\n",
    "df.head()"
   ]
  },
  {
   "cell_type": "code",
   "execution_count": 3,
   "id": "4cf22bdc-f672-4b09-9152-0daed2f2a770",
   "metadata": {},
   "outputs": [
    {
     "name": "stdout",
     "output_type": "stream",
     "text": [
      "We have 34281 customers of data with 25 columns\n"
     ]
    }
   ],
   "source": [
    "# no.of rows and columns\n",
    "print('We have',df.shape[0],'customers of data with',df.shape[1], 'columns')"
   ]
  },
  {
   "cell_type": "markdown",
   "id": "47a01b7a-2b7b-4f91-8d2c-02a4b65eda1c",
   "metadata": {},
   "source": [
    "## EDA"
   ]
  },
  {
   "cell_type": "code",
   "execution_count": 4,
   "id": "35c593f0-1df1-4b23-81ba-00f416e379f7",
   "metadata": {},
   "outputs": [
    {
     "data": {
      "text/html": [
       "<div>\n",
       "<style scoped>\n",
       "    .dataframe tbody tr th:only-of-type {\n",
       "        vertical-align: middle;\n",
       "    }\n",
       "\n",
       "    .dataframe tbody tr th {\n",
       "        vertical-align: top;\n",
       "    }\n",
       "\n",
       "    .dataframe thead th {\n",
       "        text-align: right;\n",
       "    }\n",
       "</style>\n",
       "<table border=\"1\" class=\"dataframe\">\n",
       "  <thead>\n",
       "    <tr style=\"text-align: right;\">\n",
       "      <th></th>\n",
       "      <th>ID</th>\n",
       "      <th>IV</th>\n",
       "      <th>A1</th>\n",
       "      <th>A2</th>\n",
       "      <th>A3</th>\n",
       "      <th>A4</th>\n",
       "      <th>A5</th>\n",
       "      <th>A6</th>\n",
       "      <th>A7</th>\n",
       "      <th>A8</th>\n",
       "      <th>...</th>\n",
       "      <th>A14</th>\n",
       "      <th>A15</th>\n",
       "      <th>A16</th>\n",
       "      <th>A17</th>\n",
       "      <th>A18</th>\n",
       "      <th>A19</th>\n",
       "      <th>A20</th>\n",
       "      <th>A21</th>\n",
       "      <th>A22</th>\n",
       "      <th>Target</th>\n",
       "    </tr>\n",
       "  </thead>\n",
       "  <tbody>\n",
       "    <tr>\n",
       "      <th>count</th>\n",
       "      <td>3.428100e+04</td>\n",
       "      <td>34281.000000</td>\n",
       "      <td>34281.000000</td>\n",
       "      <td>32538.000000</td>\n",
       "      <td>34281.000000</td>\n",
       "      <td>34281.000000</td>\n",
       "      <td>34281.000000</td>\n",
       "      <td>34281.000000</td>\n",
       "      <td>34281.000000</td>\n",
       "      <td>34281.000000</td>\n",
       "      <td>...</td>\n",
       "      <td>34281.000000</td>\n",
       "      <td>34281.000000</td>\n",
       "      <td>34281.000000</td>\n",
       "      <td>34281.000000</td>\n",
       "      <td>34281.000000</td>\n",
       "      <td>34281.000000</td>\n",
       "      <td>34281.000000</td>\n",
       "      <td>34281.000000</td>\n",
       "      <td>34281.000000</td>\n",
       "      <td>34281.000000</td>\n",
       "    </tr>\n",
       "    <tr>\n",
       "      <th>mean</th>\n",
       "      <td>1.979838e+06</td>\n",
       "      <td>236.252005</td>\n",
       "      <td>36.126367</td>\n",
       "      <td>7.355185</td>\n",
       "      <td>22.543071</td>\n",
       "      <td>1.695371</td>\n",
       "      <td>151.959044</td>\n",
       "      <td>274.418453</td>\n",
       "      <td>387.933637</td>\n",
       "      <td>36.482746</td>\n",
       "      <td>...</td>\n",
       "      <td>1.744757</td>\n",
       "      <td>-5.742893</td>\n",
       "      <td>-5.368822</td>\n",
       "      <td>0.208658</td>\n",
       "      <td>0.000321</td>\n",
       "      <td>0.131939</td>\n",
       "      <td>0.962370</td>\n",
       "      <td>17.049826</td>\n",
       "      <td>0.000204</td>\n",
       "      <td>0.329424</td>\n",
       "    </tr>\n",
       "    <tr>\n",
       "      <th>std</th>\n",
       "      <td>6.384855e+05</td>\n",
       "      <td>3326.574620</td>\n",
       "      <td>427.707021</td>\n",
       "      <td>6.165307</td>\n",
       "      <td>359.486291</td>\n",
       "      <td>36.195759</td>\n",
       "      <td>2274.087109</td>\n",
       "      <td>4065.441226</td>\n",
       "      <td>5443.804648</td>\n",
       "      <td>375.931751</td>\n",
       "      <td>...</td>\n",
       "      <td>26.077507</td>\n",
       "      <td>24.618128</td>\n",
       "      <td>23.938095</td>\n",
       "      <td>0.406355</td>\n",
       "      <td>0.017910</td>\n",
       "      <td>0.338429</td>\n",
       "      <td>0.190303</td>\n",
       "      <td>0.028818</td>\n",
       "      <td>0.014288</td>\n",
       "      <td>0.470011</td>\n",
       "    </tr>\n",
       "    <tr>\n",
       "      <th>min</th>\n",
       "      <td>1.058628e+06</td>\n",
       "      <td>-2999.000000</td>\n",
       "      <td>0.000000</td>\n",
       "      <td>0.000000</td>\n",
       "      <td>0.000000</td>\n",
       "      <td>0.000000</td>\n",
       "      <td>0.000000</td>\n",
       "      <td>0.000000</td>\n",
       "      <td>0.000000</td>\n",
       "      <td>0.000000</td>\n",
       "      <td>...</td>\n",
       "      <td>0.000000</td>\n",
       "      <td>-99.000000</td>\n",
       "      <td>-99.000000</td>\n",
       "      <td>0.000000</td>\n",
       "      <td>0.000000</td>\n",
       "      <td>0.000000</td>\n",
       "      <td>0.000000</td>\n",
       "      <td>17.000005</td>\n",
       "      <td>0.000000</td>\n",
       "      <td>0.000000</td>\n",
       "    </tr>\n",
       "    <tr>\n",
       "      <th>25%</th>\n",
       "      <td>1.464342e+06</td>\n",
       "      <td>2.000000</td>\n",
       "      <td>0.000000</td>\n",
       "      <td>2.000000</td>\n",
       "      <td>0.000000</td>\n",
       "      <td>0.000000</td>\n",
       "      <td>0.000000</td>\n",
       "      <td>0.000000</td>\n",
       "      <td>0.000000</td>\n",
       "      <td>0.000000</td>\n",
       "      <td>...</td>\n",
       "      <td>0.000000</td>\n",
       "      <td>0.590000</td>\n",
       "      <td>0.610000</td>\n",
       "      <td>0.000000</td>\n",
       "      <td>0.000000</td>\n",
       "      <td>0.000000</td>\n",
       "      <td>1.000000</td>\n",
       "      <td>17.024869</td>\n",
       "      <td>0.000000</td>\n",
       "      <td>0.000000</td>\n",
       "    </tr>\n",
       "    <tr>\n",
       "      <th>50%</th>\n",
       "      <td>1.841719e+06</td>\n",
       "      <td>8.000000</td>\n",
       "      <td>0.000000</td>\n",
       "      <td>8.000000</td>\n",
       "      <td>0.000000</td>\n",
       "      <td>0.000000</td>\n",
       "      <td>0.000000</td>\n",
       "      <td>2.000000</td>\n",
       "      <td>4.000000</td>\n",
       "      <td>1.000000</td>\n",
       "      <td>...</td>\n",
       "      <td>0.000000</td>\n",
       "      <td>0.810000</td>\n",
       "      <td>0.790000</td>\n",
       "      <td>0.000000</td>\n",
       "      <td>0.000000</td>\n",
       "      <td>0.000000</td>\n",
       "      <td>1.000000</td>\n",
       "      <td>17.049813</td>\n",
       "      <td>0.000000</td>\n",
       "      <td>0.000000</td>\n",
       "    </tr>\n",
       "    <tr>\n",
       "      <th>75%</th>\n",
       "      <td>2.254242e+06</td>\n",
       "      <td>40.000000</td>\n",
       "      <td>4.000000</td>\n",
       "      <td>8.000000</td>\n",
       "      <td>0.000000</td>\n",
       "      <td>0.000000</td>\n",
       "      <td>18.000000</td>\n",
       "      <td>33.000000</td>\n",
       "      <td>48.000000</td>\n",
       "      <td>6.000000</td>\n",
       "      <td>...</td>\n",
       "      <td>0.000000</td>\n",
       "      <td>0.960000</td>\n",
       "      <td>0.940000</td>\n",
       "      <td>0.000000</td>\n",
       "      <td>0.000000</td>\n",
       "      <td>0.000000</td>\n",
       "      <td>1.000000</td>\n",
       "      <td>17.074796</td>\n",
       "      <td>0.000000</td>\n",
       "      <td>1.000000</td>\n",
       "    </tr>\n",
       "    <tr>\n",
       "      <th>max</th>\n",
       "      <td>3.274754e+06</td>\n",
       "      <td>366924.000000</td>\n",
       "      <td>50547.000000</td>\n",
       "      <td>52.000000</td>\n",
       "      <td>31750.000000</td>\n",
       "      <td>2999.000000</td>\n",
       "      <td>260660.000000</td>\n",
       "      <td>438020.000000</td>\n",
       "      <td>533540.000000</td>\n",
       "      <td>21071.000000</td>\n",
       "      <td>...</td>\n",
       "      <td>1488.000000</td>\n",
       "      <td>1.000000</td>\n",
       "      <td>1.000000</td>\n",
       "      <td>1.000000</td>\n",
       "      <td>1.000000</td>\n",
       "      <td>1.000000</td>\n",
       "      <td>1.000000</td>\n",
       "      <td>17.099995</td>\n",
       "      <td>1.000000</td>\n",
       "      <td>1.000000</td>\n",
       "    </tr>\n",
       "  </tbody>\n",
       "</table>\n",
       "<p>8 rows × 25 columns</p>\n",
       "</div>"
      ],
      "text/plain": [
       "                 ID             IV            A1            A2            A3  \\\n",
       "count  3.428100e+04   34281.000000  34281.000000  32538.000000  34281.000000   \n",
       "mean   1.979838e+06     236.252005     36.126367      7.355185     22.543071   \n",
       "std    6.384855e+05    3326.574620    427.707021      6.165307    359.486291   \n",
       "min    1.058628e+06   -2999.000000      0.000000      0.000000      0.000000   \n",
       "25%    1.464342e+06       2.000000      0.000000      2.000000      0.000000   \n",
       "50%    1.841719e+06       8.000000      0.000000      8.000000      0.000000   \n",
       "75%    2.254242e+06      40.000000      4.000000      8.000000      0.000000   \n",
       "max    3.274754e+06  366924.000000  50547.000000     52.000000  31750.000000   \n",
       "\n",
       "                 A4             A5             A6             A7  \\\n",
       "count  34281.000000   34281.000000   34281.000000   34281.000000   \n",
       "mean       1.695371     151.959044     274.418453     387.933637   \n",
       "std       36.195759    2274.087109    4065.441226    5443.804648   \n",
       "min        0.000000       0.000000       0.000000       0.000000   \n",
       "25%        0.000000       0.000000       0.000000       0.000000   \n",
       "50%        0.000000       0.000000       2.000000       4.000000   \n",
       "75%        0.000000      18.000000      33.000000      48.000000   \n",
       "max     2999.000000  260660.000000  438020.000000  533540.000000   \n",
       "\n",
       "                 A8  ...           A14           A15           A16  \\\n",
       "count  34281.000000  ...  34281.000000  34281.000000  34281.000000   \n",
       "mean      36.482746  ...      1.744757     -5.742893     -5.368822   \n",
       "std      375.931751  ...     26.077507     24.618128     23.938095   \n",
       "min        0.000000  ...      0.000000    -99.000000    -99.000000   \n",
       "25%        0.000000  ...      0.000000      0.590000      0.610000   \n",
       "50%        1.000000  ...      0.000000      0.810000      0.790000   \n",
       "75%        6.000000  ...      0.000000      0.960000      0.940000   \n",
       "max    21071.000000  ...   1488.000000      1.000000      1.000000   \n",
       "\n",
       "                A17           A18           A19           A20           A21  \\\n",
       "count  34281.000000  34281.000000  34281.000000  34281.000000  34281.000000   \n",
       "mean       0.208658      0.000321      0.131939      0.962370     17.049826   \n",
       "std        0.406355      0.017910      0.338429      0.190303      0.028818   \n",
       "min        0.000000      0.000000      0.000000      0.000000     17.000005   \n",
       "25%        0.000000      0.000000      0.000000      1.000000     17.024869   \n",
       "50%        0.000000      0.000000      0.000000      1.000000     17.049813   \n",
       "75%        0.000000      0.000000      0.000000      1.000000     17.074796   \n",
       "max        1.000000      1.000000      1.000000      1.000000     17.099995   \n",
       "\n",
       "                A22        Target  \n",
       "count  34281.000000  34281.000000  \n",
       "mean       0.000204      0.329424  \n",
       "std        0.014288      0.470011  \n",
       "min        0.000000      0.000000  \n",
       "25%        0.000000      0.000000  \n",
       "50%        0.000000      0.000000  \n",
       "75%        0.000000      1.000000  \n",
       "max        1.000000      1.000000  \n",
       "\n",
       "[8 rows x 25 columns]"
      ]
     },
     "execution_count": 4,
     "metadata": {},
     "output_type": "execute_result"
    }
   ],
   "source": [
    "# check the descriptive statistics of the data\n",
    "df.describe(include='all')"
   ]
  },
  {
   "cell_type": "code",
   "execution_count": 5,
   "id": "5c866769-0479-4eb6-89f5-d85ccc1e9b16",
   "metadata": {},
   "outputs": [
    {
     "name": "stdout",
     "output_type": "stream",
     "text": [
      "<class 'pandas.core.frame.DataFrame'>\n",
      "RangeIndex: 34281 entries, 0 to 34280\n",
      "Data columns (total 25 columns):\n",
      " #   Column  Non-Null Count  Dtype  \n",
      "---  ------  --------------  -----  \n",
      " 0   ID      34281 non-null  int64  \n",
      " 1   IV      34281 non-null  int64  \n",
      " 2   A1      34281 non-null  int64  \n",
      " 3   A2      32538 non-null  float64\n",
      " 4   A3      34281 non-null  int64  \n",
      " 5   A4      34281 non-null  int64  \n",
      " 6   A5      34281 non-null  int64  \n",
      " 7   A6      34281 non-null  int64  \n",
      " 8   A7      34281 non-null  int64  \n",
      " 9   A8      34281 non-null  int64  \n",
      " 10  A9      34281 non-null  int64  \n",
      " 11  A10     34281 non-null  int64  \n",
      " 12  A11     34281 non-null  int64  \n",
      " 13  A12     34281 non-null  int64  \n",
      " 14  A13     34281 non-null  int64  \n",
      " 15  A14     34281 non-null  int64  \n",
      " 16  A15     34281 non-null  float64\n",
      " 17  A16     34281 non-null  float64\n",
      " 18  A17     34281 non-null  int64  \n",
      " 19  A18     34281 non-null  int64  \n",
      " 20  A19     34281 non-null  int64  \n",
      " 21  A20     34281 non-null  int64  \n",
      " 22  A21     34281 non-null  float64\n",
      " 23  A22     34281 non-null  int64  \n",
      " 24  Target  34281 non-null  int64  \n",
      "dtypes: float64(4), int64(21)\n",
      "memory usage: 6.5 MB\n"
     ]
    }
   ],
   "source": [
    "# checking the data types\n",
    "df.info()"
   ]
  },
  {
   "cell_type": "code",
   "execution_count": 6,
   "id": "c9862d7a-9df1-422c-a794-05673fe99a0e",
   "metadata": {},
   "outputs": [
    {
     "data": {
      "text/html": [
       "<div>\n",
       "<style scoped>\n",
       "    .dataframe tbody tr th:only-of-type {\n",
       "        vertical-align: middle;\n",
       "    }\n",
       "\n",
       "    .dataframe tbody tr th {\n",
       "        vertical-align: top;\n",
       "    }\n",
       "\n",
       "    .dataframe thead th {\n",
       "        text-align: right;\n",
       "    }\n",
       "</style>\n",
       "<table border=\"1\" class=\"dataframe\">\n",
       "  <thead>\n",
       "    <tr style=\"text-align: right;\">\n",
       "      <th></th>\n",
       "      <th>ID</th>\n",
       "      <th>IV</th>\n",
       "      <th>A1</th>\n",
       "      <th>A2</th>\n",
       "      <th>A3</th>\n",
       "      <th>A4</th>\n",
       "      <th>A5</th>\n",
       "      <th>A6</th>\n",
       "      <th>A7</th>\n",
       "      <th>A8</th>\n",
       "      <th>...</th>\n",
       "      <th>A14</th>\n",
       "      <th>A15</th>\n",
       "      <th>A16</th>\n",
       "      <th>A17</th>\n",
       "      <th>A18</th>\n",
       "      <th>A19</th>\n",
       "      <th>A20</th>\n",
       "      <th>A21</th>\n",
       "      <th>A22</th>\n",
       "      <th>Target</th>\n",
       "    </tr>\n",
       "  </thead>\n",
       "  <tbody>\n",
       "    <tr>\n",
       "      <th>ID</th>\n",
       "      <td>1.000000</td>\n",
       "      <td>0.002381</td>\n",
       "      <td>0.008931</td>\n",
       "      <td>0.026669</td>\n",
       "      <td>0.012434</td>\n",
       "      <td>-0.010037</td>\n",
       "      <td>0.002860</td>\n",
       "      <td>0.004370</td>\n",
       "      <td>0.003777</td>\n",
       "      <td>0.007470</td>\n",
       "      <td>...</td>\n",
       "      <td>-0.011367</td>\n",
       "      <td>-0.020905</td>\n",
       "      <td>-0.021744</td>\n",
       "      <td>-0.009253</td>\n",
       "      <td>0.002331</td>\n",
       "      <td>-0.021403</td>\n",
       "      <td>-0.002083</td>\n",
       "      <td>0.004929</td>\n",
       "      <td>0.004872</td>\n",
       "      <td>-0.250324</td>\n",
       "    </tr>\n",
       "    <tr>\n",
       "      <th>IV</th>\n",
       "      <td>0.002381</td>\n",
       "      <td>1.000000</td>\n",
       "      <td>0.181166</td>\n",
       "      <td>0.027141</td>\n",
       "      <td>0.168334</td>\n",
       "      <td>-0.009892</td>\n",
       "      <td>0.130558</td>\n",
       "      <td>0.196113</td>\n",
       "      <td>0.238763</td>\n",
       "      <td>0.227272</td>\n",
       "      <td>...</td>\n",
       "      <td>0.004802</td>\n",
       "      <td>-0.027457</td>\n",
       "      <td>-0.026723</td>\n",
       "      <td>-0.015144</td>\n",
       "      <td>-0.001063</td>\n",
       "      <td>-0.005293</td>\n",
       "      <td>-0.016280</td>\n",
       "      <td>-0.005399</td>\n",
       "      <td>-0.000857</td>\n",
       "      <td>-0.045262</td>\n",
       "    </tr>\n",
       "    <tr>\n",
       "      <th>A1</th>\n",
       "      <td>0.008931</td>\n",
       "      <td>0.181166</td>\n",
       "      <td>1.000000</td>\n",
       "      <td>-0.006628</td>\n",
       "      <td>0.393940</td>\n",
       "      <td>0.045052</td>\n",
       "      <td>0.758050</td>\n",
       "      <td>0.772104</td>\n",
       "      <td>0.758885</td>\n",
       "      <td>0.580734</td>\n",
       "      <td>...</td>\n",
       "      <td>0.073534</td>\n",
       "      <td>-0.008643</td>\n",
       "      <td>-0.007344</td>\n",
       "      <td>-0.034095</td>\n",
       "      <td>0.000086</td>\n",
       "      <td>0.014152</td>\n",
       "      <td>-0.013930</td>\n",
       "      <td>0.000467</td>\n",
       "      <td>0.004335</td>\n",
       "      <td>-0.019512</td>\n",
       "    </tr>\n",
       "    <tr>\n",
       "      <th>A2</th>\n",
       "      <td>0.026669</td>\n",
       "      <td>0.027141</td>\n",
       "      <td>-0.006628</td>\n",
       "      <td>1.000000</td>\n",
       "      <td>-0.006445</td>\n",
       "      <td>0.009243</td>\n",
       "      <td>-0.006401</td>\n",
       "      <td>-0.006888</td>\n",
       "      <td>-0.007617</td>\n",
       "      <td>-0.015345</td>\n",
       "      <td>...</td>\n",
       "      <td>-0.010997</td>\n",
       "      <td>-0.066833</td>\n",
       "      <td>-0.079008</td>\n",
       "      <td>0.062852</td>\n",
       "      <td>-0.009466</td>\n",
       "      <td>-0.001309</td>\n",
       "      <td>-0.205401</td>\n",
       "      <td>-0.002733</td>\n",
       "      <td>-0.000034</td>\n",
       "      <td>-0.119445</td>\n",
       "    </tr>\n",
       "    <tr>\n",
       "      <th>A3</th>\n",
       "      <td>0.012434</td>\n",
       "      <td>0.168334</td>\n",
       "      <td>0.393940</td>\n",
       "      <td>-0.006445</td>\n",
       "      <td>1.000000</td>\n",
       "      <td>0.015554</td>\n",
       "      <td>0.296429</td>\n",
       "      <td>0.353874</td>\n",
       "      <td>0.381771</td>\n",
       "      <td>0.529193</td>\n",
       "      <td>...</td>\n",
       "      <td>0.073718</td>\n",
       "      <td>0.005612</td>\n",
       "      <td>0.006327</td>\n",
       "      <td>-0.028410</td>\n",
       "      <td>-0.000204</td>\n",
       "      <td>-0.003313</td>\n",
       "      <td>0.001448</td>\n",
       "      <td>-0.002475</td>\n",
       "      <td>-0.000896</td>\n",
       "      <td>-0.035494</td>\n",
       "    </tr>\n",
       "    <tr>\n",
       "      <th>A4</th>\n",
       "      <td>-0.010037</td>\n",
       "      <td>-0.009892</td>\n",
       "      <td>0.045052</td>\n",
       "      <td>0.009243</td>\n",
       "      <td>0.015554</td>\n",
       "      <td>1.000000</td>\n",
       "      <td>0.078510</td>\n",
       "      <td>0.059922</td>\n",
       "      <td>0.059241</td>\n",
       "      <td>0.075362</td>\n",
       "      <td>...</td>\n",
       "      <td>0.035459</td>\n",
       "      <td>0.008419</td>\n",
       "      <td>0.008462</td>\n",
       "      <td>0.007045</td>\n",
       "      <td>-0.000704</td>\n",
       "      <td>-0.001508</td>\n",
       "      <td>0.003634</td>\n",
       "      <td>0.001205</td>\n",
       "      <td>-0.000669</td>\n",
       "      <td>0.054918</td>\n",
       "    </tr>\n",
       "    <tr>\n",
       "      <th>A5</th>\n",
       "      <td>0.002860</td>\n",
       "      <td>0.130558</td>\n",
       "      <td>0.758050</td>\n",
       "      <td>-0.006401</td>\n",
       "      <td>0.296429</td>\n",
       "      <td>0.078510</td>\n",
       "      <td>1.000000</td>\n",
       "      <td>0.970169</td>\n",
       "      <td>0.947507</td>\n",
       "      <td>0.292820</td>\n",
       "      <td>...</td>\n",
       "      <td>0.091565</td>\n",
       "      <td>0.012851</td>\n",
       "      <td>0.013040</td>\n",
       "      <td>-0.020347</td>\n",
       "      <td>0.000123</td>\n",
       "      <td>0.008585</td>\n",
       "      <td>0.001676</td>\n",
       "      <td>0.003505</td>\n",
       "      <td>-0.000955</td>\n",
       "      <td>0.001651</td>\n",
       "    </tr>\n",
       "    <tr>\n",
       "      <th>A6</th>\n",
       "      <td>0.004370</td>\n",
       "      <td>0.196113</td>\n",
       "      <td>0.772104</td>\n",
       "      <td>-0.006888</td>\n",
       "      <td>0.353874</td>\n",
       "      <td>0.059922</td>\n",
       "      <td>0.970169</td>\n",
       "      <td>1.000000</td>\n",
       "      <td>0.991285</td>\n",
       "      <td>0.341883</td>\n",
       "      <td>...</td>\n",
       "      <td>0.079476</td>\n",
       "      <td>0.011496</td>\n",
       "      <td>0.011500</td>\n",
       "      <td>-0.022747</td>\n",
       "      <td>0.000105</td>\n",
       "      <td>0.006578</td>\n",
       "      <td>0.003142</td>\n",
       "      <td>0.000888</td>\n",
       "      <td>-0.000965</td>\n",
       "      <td>-0.005127</td>\n",
       "    </tr>\n",
       "    <tr>\n",
       "      <th>A7</th>\n",
       "      <td>0.003777</td>\n",
       "      <td>0.238763</td>\n",
       "      <td>0.758885</td>\n",
       "      <td>-0.007617</td>\n",
       "      <td>0.381771</td>\n",
       "      <td>0.059241</td>\n",
       "      <td>0.947507</td>\n",
       "      <td>0.991285</td>\n",
       "      <td>1.000000</td>\n",
       "      <td>0.376267</td>\n",
       "      <td>...</td>\n",
       "      <td>0.082423</td>\n",
       "      <td>0.010307</td>\n",
       "      <td>0.010456</td>\n",
       "      <td>-0.025277</td>\n",
       "      <td>0.000156</td>\n",
       "      <td>0.005785</td>\n",
       "      <td>0.003666</td>\n",
       "      <td>0.000564</td>\n",
       "      <td>-0.001018</td>\n",
       "      <td>-0.007982</td>\n",
       "    </tr>\n",
       "    <tr>\n",
       "      <th>A8</th>\n",
       "      <td>0.007470</td>\n",
       "      <td>0.227272</td>\n",
       "      <td>0.580734</td>\n",
       "      <td>-0.015345</td>\n",
       "      <td>0.529193</td>\n",
       "      <td>0.075362</td>\n",
       "      <td>0.292820</td>\n",
       "      <td>0.341883</td>\n",
       "      <td>0.376267</td>\n",
       "      <td>1.000000</td>\n",
       "      <td>...</td>\n",
       "      <td>0.100221</td>\n",
       "      <td>-0.011140</td>\n",
       "      <td>-0.007753</td>\n",
       "      <td>-0.040510</td>\n",
       "      <td>0.000462</td>\n",
       "      <td>0.005955</td>\n",
       "      <td>-0.022062</td>\n",
       "      <td>-0.000775</td>\n",
       "      <td>-0.001197</td>\n",
       "      <td>-0.013272</td>\n",
       "    </tr>\n",
       "    <tr>\n",
       "      <th>A9</th>\n",
       "      <td>0.011143</td>\n",
       "      <td>0.064426</td>\n",
       "      <td>0.170352</td>\n",
       "      <td>0.000991</td>\n",
       "      <td>0.148992</td>\n",
       "      <td>0.023463</td>\n",
       "      <td>0.087086</td>\n",
       "      <td>0.100950</td>\n",
       "      <td>0.110888</td>\n",
       "      <td>0.245770</td>\n",
       "      <td>...</td>\n",
       "      <td>0.028246</td>\n",
       "      <td>-0.001629</td>\n",
       "      <td>-0.000979</td>\n",
       "      <td>-0.013792</td>\n",
       "      <td>0.000169</td>\n",
       "      <td>-0.000232</td>\n",
       "      <td>-0.004913</td>\n",
       "      <td>-0.000769</td>\n",
       "      <td>-0.000157</td>\n",
       "      <td>-0.009048</td>\n",
       "    </tr>\n",
       "    <tr>\n",
       "      <th>A10</th>\n",
       "      <td>0.011027</td>\n",
       "      <td>0.137050</td>\n",
       "      <td>0.297046</td>\n",
       "      <td>-0.001348</td>\n",
       "      <td>0.266525</td>\n",
       "      <td>0.036830</td>\n",
       "      <td>0.156175</td>\n",
       "      <td>0.183433</td>\n",
       "      <td>0.201569</td>\n",
       "      <td>0.417981</td>\n",
       "      <td>...</td>\n",
       "      <td>0.049033</td>\n",
       "      <td>-0.002257</td>\n",
       "      <td>-0.001250</td>\n",
       "      <td>-0.022594</td>\n",
       "      <td>0.000358</td>\n",
       "      <td>0.000497</td>\n",
       "      <td>-0.009291</td>\n",
       "      <td>-0.001553</td>\n",
       "      <td>-0.000290</td>\n",
       "      <td>-0.015070</td>\n",
       "    </tr>\n",
       "    <tr>\n",
       "      <th>A11</th>\n",
       "      <td>NaN</td>\n",
       "      <td>NaN</td>\n",
       "      <td>NaN</td>\n",
       "      <td>NaN</td>\n",
       "      <td>NaN</td>\n",
       "      <td>NaN</td>\n",
       "      <td>NaN</td>\n",
       "      <td>NaN</td>\n",
       "      <td>NaN</td>\n",
       "      <td>NaN</td>\n",
       "      <td>...</td>\n",
       "      <td>NaN</td>\n",
       "      <td>NaN</td>\n",
       "      <td>NaN</td>\n",
       "      <td>NaN</td>\n",
       "      <td>NaN</td>\n",
       "      <td>NaN</td>\n",
       "      <td>NaN</td>\n",
       "      <td>NaN</td>\n",
       "      <td>NaN</td>\n",
       "      <td>NaN</td>\n",
       "    </tr>\n",
       "    <tr>\n",
       "      <th>A12</th>\n",
       "      <td>0.010582</td>\n",
       "      <td>0.164200</td>\n",
       "      <td>0.373597</td>\n",
       "      <td>-0.003146</td>\n",
       "      <td>0.353853</td>\n",
       "      <td>0.043607</td>\n",
       "      <td>0.208535</td>\n",
       "      <td>0.247525</td>\n",
       "      <td>0.272210</td>\n",
       "      <td>0.523193</td>\n",
       "      <td>...</td>\n",
       "      <td>0.065737</td>\n",
       "      <td>-0.001323</td>\n",
       "      <td>0.000188</td>\n",
       "      <td>-0.030166</td>\n",
       "      <td>0.000377</td>\n",
       "      <td>0.001090</td>\n",
       "      <td>-0.013368</td>\n",
       "      <td>-0.002130</td>\n",
       "      <td>-0.000496</td>\n",
       "      <td>-0.018871</td>\n",
       "    </tr>\n",
       "    <tr>\n",
       "      <th>A13</th>\n",
       "      <td>-0.003516</td>\n",
       "      <td>-0.002919</td>\n",
       "      <td>0.009923</td>\n",
       "      <td>-0.004918</td>\n",
       "      <td>0.008601</td>\n",
       "      <td>0.016224</td>\n",
       "      <td>0.049879</td>\n",
       "      <td>0.036275</td>\n",
       "      <td>0.034854</td>\n",
       "      <td>0.013790</td>\n",
       "      <td>...</td>\n",
       "      <td>0.028732</td>\n",
       "      <td>0.008439</td>\n",
       "      <td>0.008051</td>\n",
       "      <td>-0.001920</td>\n",
       "      <td>0.037259</td>\n",
       "      <td>0.027547</td>\n",
       "      <td>0.008485</td>\n",
       "      <td>-0.007044</td>\n",
       "      <td>-0.000613</td>\n",
       "      <td>0.043830</td>\n",
       "    </tr>\n",
       "    <tr>\n",
       "      <th>A14</th>\n",
       "      <td>-0.011367</td>\n",
       "      <td>0.004802</td>\n",
       "      <td>0.073534</td>\n",
       "      <td>-0.010997</td>\n",
       "      <td>0.073718</td>\n",
       "      <td>0.035459</td>\n",
       "      <td>0.091565</td>\n",
       "      <td>0.079476</td>\n",
       "      <td>0.082423</td>\n",
       "      <td>0.100221</td>\n",
       "      <td>...</td>\n",
       "      <td>1.000000</td>\n",
       "      <td>0.005112</td>\n",
       "      <td>0.005177</td>\n",
       "      <td>-0.021313</td>\n",
       "      <td>0.001549</td>\n",
       "      <td>0.011247</td>\n",
       "      <td>-0.009571</td>\n",
       "      <td>0.005345</td>\n",
       "      <td>-0.000956</td>\n",
       "      <td>0.047926</td>\n",
       "    </tr>\n",
       "    <tr>\n",
       "      <th>A15</th>\n",
       "      <td>-0.020905</td>\n",
       "      <td>-0.027457</td>\n",
       "      <td>-0.008643</td>\n",
       "      <td>-0.066833</td>\n",
       "      <td>0.005612</td>\n",
       "      <td>0.008419</td>\n",
       "      <td>0.012851</td>\n",
       "      <td>0.011496</td>\n",
       "      <td>0.010307</td>\n",
       "      <td>-0.011140</td>\n",
       "      <td>...</td>\n",
       "      <td>0.005112</td>\n",
       "      <td>1.000000</td>\n",
       "      <td>0.968735</td>\n",
       "      <td>-0.190972</td>\n",
       "      <td>0.004373</td>\n",
       "      <td>-0.025237</td>\n",
       "      <td>0.271181</td>\n",
       "      <td>-0.003064</td>\n",
       "      <td>-0.037590</td>\n",
       "      <td>0.075415</td>\n",
       "    </tr>\n",
       "    <tr>\n",
       "      <th>A16</th>\n",
       "      <td>-0.021744</td>\n",
       "      <td>-0.026723</td>\n",
       "      <td>-0.007344</td>\n",
       "      <td>-0.079008</td>\n",
       "      <td>0.006327</td>\n",
       "      <td>0.008462</td>\n",
       "      <td>0.013040</td>\n",
       "      <td>0.011500</td>\n",
       "      <td>0.010456</td>\n",
       "      <td>-0.007753</td>\n",
       "      <td>...</td>\n",
       "      <td>0.005177</td>\n",
       "      <td>0.968735</td>\n",
       "      <td>1.000000</td>\n",
       "      <td>-0.194741</td>\n",
       "      <td>0.004281</td>\n",
       "      <td>-0.027172</td>\n",
       "      <td>0.268050</td>\n",
       "      <td>-0.004985</td>\n",
       "      <td>-0.038888</td>\n",
       "      <td>0.075586</td>\n",
       "    </tr>\n",
       "    <tr>\n",
       "      <th>A17</th>\n",
       "      <td>-0.009253</td>\n",
       "      <td>-0.015144</td>\n",
       "      <td>-0.034095</td>\n",
       "      <td>0.062852</td>\n",
       "      <td>-0.028410</td>\n",
       "      <td>0.007045</td>\n",
       "      <td>-0.020347</td>\n",
       "      <td>-0.022747</td>\n",
       "      <td>-0.025277</td>\n",
       "      <td>-0.040510</td>\n",
       "      <td>...</td>\n",
       "      <td>-0.021313</td>\n",
       "      <td>-0.190972</td>\n",
       "      <td>-0.194741</td>\n",
       "      <td>1.000000</td>\n",
       "      <td>0.002825</td>\n",
       "      <td>0.064324</td>\n",
       "      <td>-0.113106</td>\n",
       "      <td>-0.001169</td>\n",
       "      <td>-0.007338</td>\n",
       "      <td>-0.067261</td>\n",
       "    </tr>\n",
       "    <tr>\n",
       "      <th>A18</th>\n",
       "      <td>0.002331</td>\n",
       "      <td>-0.001063</td>\n",
       "      <td>0.000086</td>\n",
       "      <td>-0.009466</td>\n",
       "      <td>-0.000204</td>\n",
       "      <td>-0.000704</td>\n",
       "      <td>0.000123</td>\n",
       "      <td>0.000105</td>\n",
       "      <td>0.000156</td>\n",
       "      <td>0.000462</td>\n",
       "      <td>...</td>\n",
       "      <td>0.001549</td>\n",
       "      <td>0.004373</td>\n",
       "      <td>0.004281</td>\n",
       "      <td>0.002825</td>\n",
       "      <td>1.000000</td>\n",
       "      <td>-0.002172</td>\n",
       "      <td>0.003543</td>\n",
       "      <td>-0.006401</td>\n",
       "      <td>-0.000256</td>\n",
       "      <td>0.015165</td>\n",
       "    </tr>\n",
       "    <tr>\n",
       "      <th>A19</th>\n",
       "      <td>-0.021403</td>\n",
       "      <td>-0.005293</td>\n",
       "      <td>0.014152</td>\n",
       "      <td>-0.001309</td>\n",
       "      <td>-0.003313</td>\n",
       "      <td>-0.001508</td>\n",
       "      <td>0.008585</td>\n",
       "      <td>0.006578</td>\n",
       "      <td>0.005785</td>\n",
       "      <td>0.005955</td>\n",
       "      <td>...</td>\n",
       "      <td>0.011247</td>\n",
       "      <td>-0.025237</td>\n",
       "      <td>-0.027172</td>\n",
       "      <td>0.064324</td>\n",
       "      <td>-0.002172</td>\n",
       "      <td>1.000000</td>\n",
       "      <td>-0.042939</td>\n",
       "      <td>0.001246</td>\n",
       "      <td>0.006494</td>\n",
       "      <td>0.049335</td>\n",
       "    </tr>\n",
       "    <tr>\n",
       "      <th>A20</th>\n",
       "      <td>-0.002083</td>\n",
       "      <td>-0.016280</td>\n",
       "      <td>-0.013930</td>\n",
       "      <td>-0.205401</td>\n",
       "      <td>0.001448</td>\n",
       "      <td>0.003634</td>\n",
       "      <td>0.001676</td>\n",
       "      <td>0.003142</td>\n",
       "      <td>0.003666</td>\n",
       "      <td>-0.022062</td>\n",
       "      <td>...</td>\n",
       "      <td>-0.009571</td>\n",
       "      <td>0.271181</td>\n",
       "      <td>0.268050</td>\n",
       "      <td>-0.113106</td>\n",
       "      <td>0.003543</td>\n",
       "      <td>-0.042939</td>\n",
       "      <td>1.000000</td>\n",
       "      <td>-0.002333</td>\n",
       "      <td>-0.018631</td>\n",
       "      <td>-0.015016</td>\n",
       "    </tr>\n",
       "    <tr>\n",
       "      <th>A21</th>\n",
       "      <td>0.004929</td>\n",
       "      <td>-0.005399</td>\n",
       "      <td>0.000467</td>\n",
       "      <td>-0.002733</td>\n",
       "      <td>-0.002475</td>\n",
       "      <td>0.001205</td>\n",
       "      <td>0.003505</td>\n",
       "      <td>0.000888</td>\n",
       "      <td>0.000564</td>\n",
       "      <td>-0.000775</td>\n",
       "      <td>...</td>\n",
       "      <td>0.005345</td>\n",
       "      <td>-0.003064</td>\n",
       "      <td>-0.004985</td>\n",
       "      <td>-0.001169</td>\n",
       "      <td>-0.006401</td>\n",
       "      <td>0.001246</td>\n",
       "      <td>-0.002333</td>\n",
       "      <td>1.000000</td>\n",
       "      <td>0.009254</td>\n",
       "      <td>0.003502</td>\n",
       "    </tr>\n",
       "    <tr>\n",
       "      <th>A22</th>\n",
       "      <td>0.004872</td>\n",
       "      <td>-0.000857</td>\n",
       "      <td>0.004335</td>\n",
       "      <td>-0.000034</td>\n",
       "      <td>-0.000896</td>\n",
       "      <td>-0.000669</td>\n",
       "      <td>-0.000955</td>\n",
       "      <td>-0.000965</td>\n",
       "      <td>-0.001018</td>\n",
       "      <td>-0.001197</td>\n",
       "      <td>...</td>\n",
       "      <td>-0.000956</td>\n",
       "      <td>-0.037590</td>\n",
       "      <td>-0.038888</td>\n",
       "      <td>-0.007338</td>\n",
       "      <td>-0.000256</td>\n",
       "      <td>0.006494</td>\n",
       "      <td>-0.018631</td>\n",
       "      <td>0.009254</td>\n",
       "      <td>1.000000</td>\n",
       "      <td>-0.010017</td>\n",
       "    </tr>\n",
       "    <tr>\n",
       "      <th>Target</th>\n",
       "      <td>-0.250324</td>\n",
       "      <td>-0.045262</td>\n",
       "      <td>-0.019512</td>\n",
       "      <td>-0.119445</td>\n",
       "      <td>-0.035494</td>\n",
       "      <td>0.054918</td>\n",
       "      <td>0.001651</td>\n",
       "      <td>-0.005127</td>\n",
       "      <td>-0.007982</td>\n",
       "      <td>-0.013272</td>\n",
       "      <td>...</td>\n",
       "      <td>0.047926</td>\n",
       "      <td>0.075415</td>\n",
       "      <td>0.075586</td>\n",
       "      <td>-0.067261</td>\n",
       "      <td>0.015165</td>\n",
       "      <td>0.049335</td>\n",
       "      <td>-0.015016</td>\n",
       "      <td>0.003502</td>\n",
       "      <td>-0.010017</td>\n",
       "      <td>1.000000</td>\n",
       "    </tr>\n",
       "  </tbody>\n",
       "</table>\n",
       "<p>25 rows × 25 columns</p>\n",
       "</div>"
      ],
      "text/plain": [
       "              ID        IV        A1        A2        A3        A4        A5  \\\n",
       "ID      1.000000  0.002381  0.008931  0.026669  0.012434 -0.010037  0.002860   \n",
       "IV      0.002381  1.000000  0.181166  0.027141  0.168334 -0.009892  0.130558   \n",
       "A1      0.008931  0.181166  1.000000 -0.006628  0.393940  0.045052  0.758050   \n",
       "A2      0.026669  0.027141 -0.006628  1.000000 -0.006445  0.009243 -0.006401   \n",
       "A3      0.012434  0.168334  0.393940 -0.006445  1.000000  0.015554  0.296429   \n",
       "A4     -0.010037 -0.009892  0.045052  0.009243  0.015554  1.000000  0.078510   \n",
       "A5      0.002860  0.130558  0.758050 -0.006401  0.296429  0.078510  1.000000   \n",
       "A6      0.004370  0.196113  0.772104 -0.006888  0.353874  0.059922  0.970169   \n",
       "A7      0.003777  0.238763  0.758885 -0.007617  0.381771  0.059241  0.947507   \n",
       "A8      0.007470  0.227272  0.580734 -0.015345  0.529193  0.075362  0.292820   \n",
       "A9      0.011143  0.064426  0.170352  0.000991  0.148992  0.023463  0.087086   \n",
       "A10     0.011027  0.137050  0.297046 -0.001348  0.266525  0.036830  0.156175   \n",
       "A11          NaN       NaN       NaN       NaN       NaN       NaN       NaN   \n",
       "A12     0.010582  0.164200  0.373597 -0.003146  0.353853  0.043607  0.208535   \n",
       "A13    -0.003516 -0.002919  0.009923 -0.004918  0.008601  0.016224  0.049879   \n",
       "A14    -0.011367  0.004802  0.073534 -0.010997  0.073718  0.035459  0.091565   \n",
       "A15    -0.020905 -0.027457 -0.008643 -0.066833  0.005612  0.008419  0.012851   \n",
       "A16    -0.021744 -0.026723 -0.007344 -0.079008  0.006327  0.008462  0.013040   \n",
       "A17    -0.009253 -0.015144 -0.034095  0.062852 -0.028410  0.007045 -0.020347   \n",
       "A18     0.002331 -0.001063  0.000086 -0.009466 -0.000204 -0.000704  0.000123   \n",
       "A19    -0.021403 -0.005293  0.014152 -0.001309 -0.003313 -0.001508  0.008585   \n",
       "A20    -0.002083 -0.016280 -0.013930 -0.205401  0.001448  0.003634  0.001676   \n",
       "A21     0.004929 -0.005399  0.000467 -0.002733 -0.002475  0.001205  0.003505   \n",
       "A22     0.004872 -0.000857  0.004335 -0.000034 -0.000896 -0.000669 -0.000955   \n",
       "Target -0.250324 -0.045262 -0.019512 -0.119445 -0.035494  0.054918  0.001651   \n",
       "\n",
       "              A6        A7        A8  ...       A14       A15       A16  \\\n",
       "ID      0.004370  0.003777  0.007470  ... -0.011367 -0.020905 -0.021744   \n",
       "IV      0.196113  0.238763  0.227272  ...  0.004802 -0.027457 -0.026723   \n",
       "A1      0.772104  0.758885  0.580734  ...  0.073534 -0.008643 -0.007344   \n",
       "A2     -0.006888 -0.007617 -0.015345  ... -0.010997 -0.066833 -0.079008   \n",
       "A3      0.353874  0.381771  0.529193  ...  0.073718  0.005612  0.006327   \n",
       "A4      0.059922  0.059241  0.075362  ...  0.035459  0.008419  0.008462   \n",
       "A5      0.970169  0.947507  0.292820  ...  0.091565  0.012851  0.013040   \n",
       "A6      1.000000  0.991285  0.341883  ...  0.079476  0.011496  0.011500   \n",
       "A7      0.991285  1.000000  0.376267  ...  0.082423  0.010307  0.010456   \n",
       "A8      0.341883  0.376267  1.000000  ...  0.100221 -0.011140 -0.007753   \n",
       "A9      0.100950  0.110888  0.245770  ...  0.028246 -0.001629 -0.000979   \n",
       "A10     0.183433  0.201569  0.417981  ...  0.049033 -0.002257 -0.001250   \n",
       "A11          NaN       NaN       NaN  ...       NaN       NaN       NaN   \n",
       "A12     0.247525  0.272210  0.523193  ...  0.065737 -0.001323  0.000188   \n",
       "A13     0.036275  0.034854  0.013790  ...  0.028732  0.008439  0.008051   \n",
       "A14     0.079476  0.082423  0.100221  ...  1.000000  0.005112  0.005177   \n",
       "A15     0.011496  0.010307 -0.011140  ...  0.005112  1.000000  0.968735   \n",
       "A16     0.011500  0.010456 -0.007753  ...  0.005177  0.968735  1.000000   \n",
       "A17    -0.022747 -0.025277 -0.040510  ... -0.021313 -0.190972 -0.194741   \n",
       "A18     0.000105  0.000156  0.000462  ...  0.001549  0.004373  0.004281   \n",
       "A19     0.006578  0.005785  0.005955  ...  0.011247 -0.025237 -0.027172   \n",
       "A20     0.003142  0.003666 -0.022062  ... -0.009571  0.271181  0.268050   \n",
       "A21     0.000888  0.000564 -0.000775  ...  0.005345 -0.003064 -0.004985   \n",
       "A22    -0.000965 -0.001018 -0.001197  ... -0.000956 -0.037590 -0.038888   \n",
       "Target -0.005127 -0.007982 -0.013272  ...  0.047926  0.075415  0.075586   \n",
       "\n",
       "             A17       A18       A19       A20       A21       A22    Target  \n",
       "ID     -0.009253  0.002331 -0.021403 -0.002083  0.004929  0.004872 -0.250324  \n",
       "IV     -0.015144 -0.001063 -0.005293 -0.016280 -0.005399 -0.000857 -0.045262  \n",
       "A1     -0.034095  0.000086  0.014152 -0.013930  0.000467  0.004335 -0.019512  \n",
       "A2      0.062852 -0.009466 -0.001309 -0.205401 -0.002733 -0.000034 -0.119445  \n",
       "A3     -0.028410 -0.000204 -0.003313  0.001448 -0.002475 -0.000896 -0.035494  \n",
       "A4      0.007045 -0.000704 -0.001508  0.003634  0.001205 -0.000669  0.054918  \n",
       "A5     -0.020347  0.000123  0.008585  0.001676  0.003505 -0.000955  0.001651  \n",
       "A6     -0.022747  0.000105  0.006578  0.003142  0.000888 -0.000965 -0.005127  \n",
       "A7     -0.025277  0.000156  0.005785  0.003666  0.000564 -0.001018 -0.007982  \n",
       "A8     -0.040510  0.000462  0.005955 -0.022062 -0.000775 -0.001197 -0.013272  \n",
       "A9     -0.013792  0.000169 -0.000232 -0.004913 -0.000769 -0.000157 -0.009048  \n",
       "A10    -0.022594  0.000358  0.000497 -0.009291 -0.001553 -0.000290 -0.015070  \n",
       "A11          NaN       NaN       NaN       NaN       NaN       NaN       NaN  \n",
       "A12    -0.030166  0.000377  0.001090 -0.013368 -0.002130 -0.000496 -0.018871  \n",
       "A13    -0.001920  0.037259  0.027547  0.008485 -0.007044 -0.000613  0.043830  \n",
       "A14    -0.021313  0.001549  0.011247 -0.009571  0.005345 -0.000956  0.047926  \n",
       "A15    -0.190972  0.004373 -0.025237  0.271181 -0.003064 -0.037590  0.075415  \n",
       "A16    -0.194741  0.004281 -0.027172  0.268050 -0.004985 -0.038888  0.075586  \n",
       "A17     1.000000  0.002825  0.064324 -0.113106 -0.001169 -0.007338 -0.067261  \n",
       "A18     0.002825  1.000000 -0.002172  0.003543 -0.006401 -0.000256  0.015165  \n",
       "A19     0.064324 -0.002172  1.000000 -0.042939  0.001246  0.006494  0.049335  \n",
       "A20    -0.113106  0.003543 -0.042939  1.000000 -0.002333 -0.018631 -0.015016  \n",
       "A21    -0.001169 -0.006401  0.001246 -0.002333  1.000000  0.009254  0.003502  \n",
       "A22    -0.007338 -0.000256  0.006494 -0.018631  0.009254  1.000000 -0.010017  \n",
       "Target -0.067261  0.015165  0.049335 -0.015016  0.003502 -0.010017  1.000000  \n",
       "\n",
       "[25 rows x 25 columns]"
      ]
     },
     "execution_count": 6,
     "metadata": {},
     "output_type": "execute_result"
    }
   ],
   "source": [
    "# Correlation\n",
    "df.corr()"
   ]
  },
  {
   "cell_type": "code",
   "execution_count": 7,
   "id": "9c5b71ce-9bab-4215-a660-cc04729d96df",
   "metadata": {},
   "outputs": [],
   "source": [
    "# An interesting observation - correlation missing between A11 to others"
   ]
  },
  {
   "cell_type": "code",
   "execution_count": 8,
   "id": "896b9b47-af23-4ef5-989c-c8bb318d4fff",
   "metadata": {},
   "outputs": [
    {
     "data": {
      "text/plain": [
       "27    34281\n",
       "Name: A11, dtype: int64"
      ]
     },
     "execution_count": 8,
     "metadata": {},
     "output_type": "execute_result"
    }
   ],
   "source": [
    "df['A11'].value_counts()"
   ]
  },
  {
   "cell_type": "code",
   "execution_count": 9,
   "id": "9c0f5f6b-4446-4c6e-87e4-d5dac618ba3f",
   "metadata": {},
   "outputs": [],
   "source": [
    "# Hence all values are same "
   ]
  },
  {
   "cell_type": "markdown",
   "id": "21bd6b5e-4e7f-42ca-9e2a-d4de63449fcb",
   "metadata": {},
   "source": [
    "## Preprocess steps"
   ]
  },
  {
   "cell_type": "markdown",
   "id": "52a773eb-7ed8-4ab4-8441-7b73a7f9177c",
   "metadata": {},
   "source": [
    "#### Handle missing values"
   ]
  },
  {
   "cell_type": "code",
   "execution_count": 10,
   "id": "18f96a6e-930c-456c-acd4-75502f042545",
   "metadata": {},
   "outputs": [
    {
     "data": {
      "text/plain": [
       "ID           0\n",
       "IV           0\n",
       "A1           0\n",
       "A2        1743\n",
       "A3           0\n",
       "A4           0\n",
       "A5           0\n",
       "A6           0\n",
       "A7           0\n",
       "A8           0\n",
       "A9           0\n",
       "A10          0\n",
       "A11          0\n",
       "A12          0\n",
       "A13          0\n",
       "A14          0\n",
       "A15          0\n",
       "A16          0\n",
       "A17          0\n",
       "A18          0\n",
       "A19          0\n",
       "A20          0\n",
       "A21          0\n",
       "A22          0\n",
       "Target       0\n",
       "dtype: int64"
      ]
     },
     "execution_count": 10,
     "metadata": {},
     "output_type": "execute_result"
    }
   ],
   "source": [
    "#check  what total_missing contains\n",
    "df.isnull().sum()"
   ]
  },
  {
   "cell_type": "code",
   "execution_count": 11,
   "id": "665d904a-04e2-43a4-8812-428a08dcf40f",
   "metadata": {},
   "outputs": [
    {
     "data": {
      "text/plain": [
       "count    32538.000000\n",
       "mean         7.355185\n",
       "std          6.165307\n",
       "min          0.000000\n",
       "25%          2.000000\n",
       "50%          8.000000\n",
       "75%          8.000000\n",
       "max         52.000000\n",
       "Name: A2, dtype: float64"
      ]
     },
     "execution_count": 11,
     "metadata": {},
     "output_type": "execute_result"
    }
   ],
   "source": [
    "#checking A2 is normally distrubuted or not\n",
    "df['A2'].describe()"
   ]
  },
  {
   "cell_type": "code",
   "execution_count": 12,
   "id": "15d74ed4-db06-4c06-b00e-79f94f4877b0",
   "metadata": {},
   "outputs": [
    {
     "data": {
      "text/plain": [
       "0    8.0\n",
       "dtype: float64"
      ]
     },
     "execution_count": 12,
     "metadata": {},
     "output_type": "execute_result"
    }
   ],
   "source": [
    "df['A2'].mode()"
   ]
  },
  {
   "cell_type": "code",
   "execution_count": 13,
   "id": "3fbf436b-6459-435a-b2fe-988b2936995b",
   "metadata": {},
   "outputs": [
    {
     "data": {
      "text/plain": [
       "0"
      ]
     },
     "execution_count": 13,
     "metadata": {},
     "output_type": "execute_result"
    }
   ],
   "source": [
    "#Looks like A2 is normally distributed therefor replacing missing values with mean\n",
    "df['A2'].fillna(df['A2'].mean(),inplace=True)\n",
    "df['A2'].isnull().sum()"
   ]
  },
  {
   "cell_type": "markdown",
   "id": "2806d641-2fd3-4f85-a7fa-661b58951fb1",
   "metadata": {},
   "source": [
    "### Handle outliers"
   ]
  },
  {
   "cell_type": "code",
   "execution_count": 14,
   "id": "2a6cbdc6-ac4a-45a0-a607-0104d09b99ba",
   "metadata": {},
   "outputs": [
    {
     "data": {
      "text/plain": [
       "<AxesSubplot:>"
      ]
     },
     "execution_count": 14,
     "metadata": {},
     "output_type": "execute_result"
    },
    {
     "data": {
      "image/png": "[encoded data removed]",
      "text/plain": [
       "<Figure size 432x288 with 1 Axes>"
      ]
     },
     "metadata": {
      "needs_background": "light"
     },
     "output_type": "display_data"
    }
   ],
   "source": [
    "#checking outliers\n",
    "df.plot(kind='box')"
   ]
  },
  {
   "cell_type": "code",
   "execution_count": 15,
   "id": "b3d7de68-4c5e-4159-963d-f0f36b7fcf82",
   "metadata": {},
   "outputs": [],
   "source": [
    "Q1 = df.quantile(0.25)\n",
    "Q3 = df.quantile(0.75)\n",
    "IQR = Q3 - Q1\n",
    "\n",
    "#removing outliers\n",
    "data_out = df[~((df < (Q1 - 1.5 * IQR)) |(df > (Q3 + 1.5 * IQR))).any(axis=1)]"
   ]
  },
  {
   "cell_type": "markdown",
   "id": "8538c3be-f409-4549-9eae-9b477f0c4d7f",
   "metadata": {},
   "source": [
    "## Dataset balance"
   ]
  },
  {
   "cell_type": "code",
   "execution_count": 16,
   "id": "21700920-933e-4931-895b-1de7c65af606",
   "metadata": {},
   "outputs": [
    {
     "data": {
      "text/html": [
       "<div>\n",
       "<style scoped>\n",
       "    .dataframe tbody tr th:only-of-type {\n",
       "        vertical-align: middle;\n",
       "    }\n",
       "\n",
       "    .dataframe tbody tr th {\n",
       "        vertical-align: top;\n",
       "    }\n",
       "\n",
       "    .dataframe thead th {\n",
       "        text-align: right;\n",
       "    }\n",
       "</style>\n",
       "<table border=\"1\" class=\"dataframe\">\n",
       "  <thead>\n",
       "    <tr style=\"text-align: right;\">\n",
       "      <th>col_0</th>\n",
       "      <th>N</th>\n",
       "    </tr>\n",
       "    <tr>\n",
       "      <th>Target</th>\n",
       "      <th></th>\n",
       "    </tr>\n",
       "  </thead>\n",
       "  <tbody>\n",
       "    <tr>\n",
       "      <th>0</th>\n",
       "      <td>0.659282</td>\n",
       "    </tr>\n",
       "    <tr>\n",
       "      <th>1</th>\n",
       "      <td>0.340718</td>\n",
       "    </tr>\n",
       "  </tbody>\n",
       "</table>\n",
       "</div>"
      ],
      "text/plain": [
       "col_0          N\n",
       "Target          \n",
       "0       0.659282\n",
       "1       0.340718"
      ]
     },
     "execution_count": 16,
     "metadata": {},
     "output_type": "execute_result"
    }
   ],
   "source": [
    "pd.crosstab(data_out['Target'],columns='N',normalize=True) \n",
    "#normalize true = show in %\n",
    "#normalize false = show in count"
   ]
  },
  {
   "cell_type": "code",
   "execution_count": 17,
   "id": "2e47b47f-3117-493a-9470-11f268ba3888",
   "metadata": {},
   "outputs": [
    {
     "data": {
      "text/plain": [
       "0    8690\n",
       "1    4491\n",
       "Name: Target, dtype: int64"
      ]
     },
     "execution_count": 17,
     "metadata": {},
     "output_type": "execute_result"
    }
   ],
   "source": [
    "#count of Target variable\n",
    "data_out['Target'].value_counts()"
   ]
  },
  {
   "cell_type": "code",
   "execution_count": 18,
   "id": "ef1f7955-dabc-4119-ae41-621234d99251",
   "metadata": {},
   "outputs": [
    {
     "data": {
      "text/plain": [
       "<AxesSubplot:ylabel='Target'>"
      ]
     },
     "execution_count": 18,
     "metadata": {},
     "output_type": "execute_result"
    },
    {
     "data": {
      "image/png": "[encoded data removed]",
      "text/plain": [
       "<Figure size 432x288 with 1 Axes>"
      ]
     },
     "metadata": {},
     "output_type": "display_data"
    }
   ],
   "source": [
    "data_out['Target'].value_counts().plot.pie()"
   ]
  },
  {
   "cell_type": "code",
   "execution_count": 19,
   "id": "d078f679-db2b-43cf-8f76-5531d138d8e7",
   "metadata": {},
   "outputs": [],
   "source": [
    "# Here we get the data as imbalanced. so using sampling for balancing."
   ]
  },
  {
   "cell_type": "markdown",
   "id": "0ecb63a4-4d56-47e0-b255-37200d40bd53",
   "metadata": {},
   "source": [
    "## Under Sampling"
   ]
  },
  {
   "cell_type": "code",
   "execution_count": 20,
   "id": "1d4e7e82-84f4-4da4-a9b6-af5e30951500",
   "metadata": {},
   "outputs": [],
   "source": [
    "#using under sampling(majority class of data points is reduced in order to balance the dataset and improve the performance of a predictive model.)\n",
    "import imblearn # Imbalanced-learn\n",
    "from imblearn.under_sampling import RandomUnderSampler\n",
    "rus=RandomUnderSampler(sampling_strategy=1)\n",
    "X_res,y_res=rus.fit_resample(data_out.drop('Target', axis=1), data_out['Target'])\n",
    "us= pd.concat([pd.DataFrame(y_res), pd.DataFrame(X_res)], axis=1)"
   ]
  },
  {
   "cell_type": "code",
   "execution_count": 21,
   "id": "64d27c01-2705-4d89-bf53-1c56a9b937b3",
   "metadata": {},
   "outputs": [
    {
     "data": {
      "text/plain": [
       "0    4491\n",
       "1    4491\n",
       "Name: Target, dtype: int64"
      ]
     },
     "execution_count": 21,
     "metadata": {},
     "output_type": "execute_result"
    }
   ],
   "source": [
    "ax=y_res.value_counts()\n",
    "ax"
   ]
  },
  {
   "cell_type": "code",
   "execution_count": 22,
   "id": "7e65cbde-836d-4513-afcf-d766e17b3502",
   "metadata": {},
   "outputs": [
    {
     "data": {
      "image/png": "[encoded data removed]",
      "text/plain": [
       "<Figure size 432x288 with 1 Axes>"
      ]
     },
     "metadata": {},
     "output_type": "display_data"
    }
   ],
   "source": [
    "#visualizing \n",
    "ax=y_res.value_counts().plot.pie(title='Under-Sampling')"
   ]
  },
  {
   "cell_type": "code",
   "execution_count": 23,
   "id": "07b3b587-e7f0-4ee6-bbd1-bc727974b040",
   "metadata": {},
   "outputs": [
    {
     "data": {
      "text/html": [
       "<div>\n",
       "<style scoped>\n",
       "    .dataframe tbody tr th:only-of-type {\n",
       "        vertical-align: middle;\n",
       "    }\n",
       "\n",
       "    .dataframe tbody tr th {\n",
       "        vertical-align: top;\n",
       "    }\n",
       "\n",
       "    .dataframe thead th {\n",
       "        text-align: right;\n",
       "    }\n",
       "</style>\n",
       "<table border=\"1\" class=\"dataframe\">\n",
       "  <thead>\n",
       "    <tr style=\"text-align: right;\">\n",
       "      <th>col_0</th>\n",
       "      <th>N</th>\n",
       "    </tr>\n",
       "    <tr>\n",
       "      <th>Target</th>\n",
       "      <th></th>\n",
       "    </tr>\n",
       "  </thead>\n",
       "  <tbody>\n",
       "    <tr>\n",
       "      <th>0</th>\n",
       "      <td>0.5</td>\n",
       "    </tr>\n",
       "    <tr>\n",
       "      <th>1</th>\n",
       "      <td>0.5</td>\n",
       "    </tr>\n",
       "  </tbody>\n",
       "</table>\n",
       "</div>"
      ],
      "text/plain": [
       "col_0     N\n",
       "Target     \n",
       "0       0.5\n",
       "1       0.5"
      ]
     },
     "execution_count": 23,
     "metadata": {},
     "output_type": "execute_result"
    }
   ],
   "source": [
    "pd.crosstab(us['Target'],columns='N',normalize=True)"
   ]
  },
  {
   "cell_type": "code",
   "execution_count": 24,
   "id": "7a6d1629-7990-4250-b820-78737cb69d98",
   "metadata": {},
   "outputs": [],
   "source": [
    "# Now the data is balanced"
   ]
  },
  {
   "cell_type": "markdown",
   "id": "91067d29-e40b-4b67-8f13-ca7b63a46546",
   "metadata": {},
   "source": [
    "## Removing irrelavent featues"
   ]
  },
  {
   "cell_type": "code",
   "execution_count": 25,
   "id": "a2d1ac67-15d1-4490-917e-468a4fd32902",
   "metadata": {},
   "outputs": [],
   "source": [
    "#we saw that very value of A11 is same. so we can remove it.\n",
    "#Also we don't need ID\n",
    "us=us.drop(['ID','A11'],axis=1)"
   ]
  },
  {
   "cell_type": "markdown",
   "id": "187d227e-e425-4441-87d5-006860234145",
   "metadata": {},
   "source": [
    "## Data partition"
   ]
  },
  {
   "cell_type": "code",
   "execution_count": 26,
   "id": "37f50a8b-8aa4-426f-bb54-415be7baaa77",
   "metadata": {},
   "outputs": [],
   "source": [
    "## Using sklearn split 70% of our data into training set and rest in test set.\n",
    "from sklearn.model_selection import train_test_split\n",
    "X = us.drop('Target',axis=1)\n",
    "y = us[[\"Target\"]]\n",
    "#random_state is the seed used by the random number generator. It can be any integer.\n",
    "x_train, x_test, y_train, y_test = train_test_split(X, y, test_size=0.3,random_state =1) \n"
   ]
  },
  {
   "cell_type": "code",
   "execution_count": 27,
   "id": "b70bdb47-d366-4ae8-aaea-5e56b76ffca8",
   "metadata": {},
   "outputs": [
    {
     "data": {
      "text/html": [
       "<div>\n",
       "<style scoped>\n",
       "    .dataframe tbody tr th:only-of-type {\n",
       "        vertical-align: middle;\n",
       "    }\n",
       "\n",
       "    .dataframe tbody tr th {\n",
       "        vertical-align: top;\n",
       "    }\n",
       "\n",
       "    .dataframe thead th {\n",
       "        text-align: right;\n",
       "    }\n",
       "</style>\n",
       "<table border=\"1\" class=\"dataframe\">\n",
       "  <thead>\n",
       "    <tr style=\"text-align: right;\">\n",
       "      <th></th>\n",
       "      <th>ID</th>\n",
       "      <th>IV</th>\n",
       "      <th>A1</th>\n",
       "      <th>A2</th>\n",
       "      <th>A3</th>\n",
       "      <th>A4</th>\n",
       "      <th>A5</th>\n",
       "      <th>A6</th>\n",
       "      <th>A7</th>\n",
       "      <th>A8</th>\n",
       "      <th>...</th>\n",
       "      <th>A13</th>\n",
       "      <th>A14</th>\n",
       "      <th>A15</th>\n",
       "      <th>A16</th>\n",
       "      <th>A17</th>\n",
       "      <th>A18</th>\n",
       "      <th>A19</th>\n",
       "      <th>A20</th>\n",
       "      <th>A21</th>\n",
       "      <th>A22</th>\n",
       "    </tr>\n",
       "    <tr>\n",
       "      <th>Target</th>\n",
       "      <th></th>\n",
       "      <th></th>\n",
       "      <th></th>\n",
       "      <th></th>\n",
       "      <th></th>\n",
       "      <th></th>\n",
       "      <th></th>\n",
       "      <th></th>\n",
       "      <th></th>\n",
       "      <th></th>\n",
       "      <th></th>\n",
       "      <th></th>\n",
       "      <th></th>\n",
       "      <th></th>\n",
       "      <th></th>\n",
       "      <th></th>\n",
       "      <th></th>\n",
       "      <th></th>\n",
       "      <th></th>\n",
       "      <th></th>\n",
       "      <th></th>\n",
       "    </tr>\n",
       "  </thead>\n",
       "  <tbody>\n",
       "    <tr>\n",
       "      <th>0</th>\n",
       "      <td>2.091859e+06</td>\n",
       "      <td>341.783322</td>\n",
       "      <td>41.975552</td>\n",
       "      <td>7.847921</td>\n",
       "      <td>31.486123</td>\n",
       "      <td>0.302158</td>\n",
       "      <td>149.328215</td>\n",
       "      <td>289.028189</td>\n",
       "      <td>418.388638</td>\n",
       "      <td>39.979642</td>\n",
       "      <td>...</td>\n",
       "      <td>0.000522</td>\n",
       "      <td>0.868801</td>\n",
       "      <td>-7.044145</td>\n",
       "      <td>-6.636992</td>\n",
       "      <td>0.227815</td>\n",
       "      <td>0.000131</td>\n",
       "      <td>0.120237</td>\n",
       "      <td>0.964373</td>\n",
       "      <td>17.049755</td>\n",
       "      <td>0.000305</td>\n",
       "    </tr>\n",
       "    <tr>\n",
       "      <th>1</th>\n",
       "      <td>1.751807e+06</td>\n",
       "      <td>21.432746</td>\n",
       "      <td>24.219782</td>\n",
       "      <td>6.352172</td>\n",
       "      <td>4.338617</td>\n",
       "      <td>4.531391</td>\n",
       "      <td>157.314354</td>\n",
       "      <td>244.678916</td>\n",
       "      <td>325.939520</td>\n",
       "      <td>29.364474</td>\n",
       "      <td>...</td>\n",
       "      <td>0.004516</td>\n",
       "      <td>3.527849</td>\n",
       "      <td>-3.094070</td>\n",
       "      <td>-2.787339</td>\n",
       "      <td>0.169663</td>\n",
       "      <td>0.000708</td>\n",
       "      <td>0.155760</td>\n",
       "      <td>0.958293</td>\n",
       "      <td>17.049970</td>\n",
       "      <td>0.000000</td>\n",
       "    </tr>\n",
       "  </tbody>\n",
       "</table>\n",
       "<p>2 rows × 24 columns</p>\n",
       "</div>"
      ],
      "text/plain": [
       "                  ID          IV         A1        A2         A3        A4  \\\n",
       "Target                                                                       \n",
       "0       2.091859e+06  341.783322  41.975552  7.847921  31.486123  0.302158   \n",
       "1       1.751807e+06   21.432746  24.219782  6.352172   4.338617  4.531391   \n",
       "\n",
       "                A5          A6          A7         A8  ...       A13  \\\n",
       "Target                                                 ...             \n",
       "0       149.328215  289.028189  418.388638  39.979642  ...  0.000522   \n",
       "1       157.314354  244.678916  325.939520  29.364474  ...  0.004516   \n",
       "\n",
       "             A14       A15       A16       A17       A18       A19       A20  \\\n",
       "Target                                                                         \n",
       "0       0.868801 -7.044145 -6.636992  0.227815  0.000131  0.120237  0.964373   \n",
       "1       3.527849 -3.094070 -2.787339  0.169663  0.000708  0.155760  0.958293   \n",
       "\n",
       "              A21       A22  \n",
       "Target                       \n",
       "0       17.049755  0.000305  \n",
       "1       17.049970  0.000000  \n",
       "\n",
       "[2 rows x 24 columns]"
      ]
     },
     "execution_count": 27,
     "metadata": {},
     "output_type": "execute_result"
    }
   ],
   "source": [
    "# it shows the mean of each variable w.r.t the target values\n",
    "df.groupby('Target').mean()"
   ]
  },
  {
   "cell_type": "markdown",
   "id": "07570e78-96d1-481d-9621-ca6926e11875",
   "metadata": {},
   "source": [
    "### Important features"
   ]
  },
  {
   "cell_type": "code",
   "execution_count": 28,
   "id": "6f134950-abcf-433a-b6fc-77876d2cc8d1",
   "metadata": {},
   "outputs": [
    {
     "data": {
      "text/plain": [
       "array([0.16685977, 0.00521546, 0.02386478, 0.        , 0.00443298,\n",
       "       0.23054101, 0.23573157, 0.22942082, 0.12640386, 0.14447346,\n",
       "       0.14387127, 0.12625202, 0.00143416, 0.01098904, 0.03399228,\n",
       "       0.0124096 , 0.01339817, 0.        , 0.00540221, 0.        ,\n",
       "       0.        , 0.        ])"
      ]
     },
     "execution_count": 28,
     "metadata": {},
     "output_type": "execute_result"
    }
   ],
   "source": [
    "#Applying Mutual info classifier to get Important Features\n",
    "from sklearn.feature_selection import mutual_info_classif\n",
    "# measure of how much information the presence of one variable gives about the other variable. \n",
    "mutual_info=mutual_info_classif(x_train,y_train)\n",
    "mutual_info"
   ]
  },
  {
   "cell_type": "code",
   "execution_count": 29,
   "id": "a052415a-11fa-4158-9852-9c439d938898",
   "metadata": {},
   "outputs": [
    {
     "data": {
      "text/plain": [
       "A6     0.235732\n",
       "A5     0.230541\n",
       "A7     0.229421\n",
       "IV     0.166860\n",
       "A9     0.144473\n",
       "A10    0.143871\n",
       "A8     0.126404\n",
       "A12    0.126252\n",
       "A15    0.033992\n",
       "A2     0.023865\n",
       "A17    0.013398\n",
       "A16    0.012410\n",
       "A14    0.010989\n",
       "A19    0.005402\n",
       "A1     0.005215\n",
       "A4     0.004433\n",
       "A13    0.001434\n",
       "A3     0.000000\n",
       "A18    0.000000\n",
       "A20    0.000000\n",
       "A21    0.000000\n",
       "A22    0.000000\n",
       "dtype: float64"
      ]
     },
     "execution_count": 29,
     "metadata": {},
     "output_type": "execute_result"
    }
   ],
   "source": [
    "#convert array to series\n",
    "mutual_info=pd.Series(mutual_info)\n",
    "mutual_info.index=x_train.columns\n",
    "mutual_info.sort_values(ascending=False)"
   ]
  },
  {
   "cell_type": "code",
   "execution_count": 30,
   "id": "2006d875-8e38-46e2-91d8-5ea493fa649f",
   "metadata": {},
   "outputs": [
    {
     "data": {
      "text/plain": [
       "<AxesSubplot:>"
      ]
     },
     "execution_count": 30,
     "metadata": {},
     "output_type": "execute_result"
    },
    {
     "data": {
      "image/png": "[encoded data removed]",
      "text/plain": [
       "<Figure size 1440x576 with 1 Axes>"
      ]
     },
     "metadata": {
      "needs_background": "light"
     },
     "output_type": "display_data"
    }
   ],
   "source": [
    "#visualize feature importance\n",
    "mutual_info.sort_values(ascending=False).plot.bar(figsize=(20,8))"
   ]
  },
  {
   "cell_type": "code",
   "execution_count": 31,
   "id": "2b67da9f-9dc7-42cc-9aa3-4ec2a7c0ae5a",
   "metadata": {},
   "outputs": [],
   "source": [
    "#select how much feature we want\n",
    "from sklearn.feature_selection import SelectKBest"
   ]
  },
  {
   "cell_type": "code",
   "execution_count": 32,
   "id": "538daf7e-964a-4cbd-9911-8c01525c18b3",
   "metadata": {},
   "outputs": [
    {
     "data": {
      "text/plain": [
       "Index(['IV', 'A5', 'A6', 'A7', 'A8', 'A9', 'A10', 'A12'], dtype='object')"
      ]
     },
     "execution_count": 32,
     "metadata": {},
     "output_type": "execute_result"
    }
   ],
   "source": [
    "#select top 10 features\n",
    "sel_col=SelectKBest(mutual_info_classif,k=8)\n",
    "sel_col.fit(x_train,y_train)\n",
    "x_train.columns[sel_col.get_support()]"
   ]
  },
  {
   "cell_type": "code",
   "execution_count": 33,
   "id": "88c66c31-38d2-4738-95cf-c763dc39afdc",
   "metadata": {},
   "outputs": [],
   "source": [
    "#Selecting top 8 values and drop remaining\n",
    "x_train=x_train.drop(['A1','A2','A3','A4','A13','A14','A15','A17','A18','A19','A20','A21','A22'],axis=1)"
   ]
  },
  {
   "cell_type": "code",
   "execution_count": 34,
   "id": "54f878a3-878e-40f7-afdf-fb27ef512aa8",
   "metadata": {},
   "outputs": [],
   "source": [
    "#Selecting top 8 values and drop remaining\n",
    "x_test=x_test.drop(['A1','A2','A3','A4','A13','A14','A15','A17','A18','A19','A20','A21','A22'],axis=1)"
   ]
  },
  {
   "cell_type": "code",
   "execution_count": 35,
   "id": "2a6c7765-cf2e-41ca-be56-7c7bc6606195",
   "metadata": {},
   "outputs": [],
   "source": [
    "from sklearn.linear_model import Ridge,RidgeClassifier\n",
    "from sklearn.model_selection import GridSearchCV,RepeatedStratifiedKFold"
   ]
  },
  {
   "cell_type": "code",
   "execution_count": 36,
   "id": "14b1718a-8014-48f2-85b7-c7455c24e591",
   "metadata": {},
   "outputs": [
    {
     "name": "stdout",
     "output_type": "stream",
     "text": [
      "Best: 0.827155 using {'alpha': 0.8}\n"
     ]
    }
   ],
   "source": [
    "model = RidgeClassifier()\n",
    "alpha = [0.1, 0.2, 0.3, 0.4, 0.5, 0.6, 0.7, 0.8, 0.9, 1.0]\n",
    "# define grid search\n",
    "grid = dict(alpha=alpha)\n",
    "cv = RepeatedStratifiedKFold(n_splits=10, n_repeats=3, random_state=1)\n",
    "grid_search = GridSearchCV(estimator=model, param_grid=grid, n_jobs=-1, cv=cv, scoring='accuracy',error_score=0)\n",
    "grid_result = grid_search.fit(x_train, y_train)\n",
    "print(\"Best: %f using %s\" % (grid_result.best_score_, grid_result.best_params_))"
   ]
  },
  {
   "cell_type": "code",
   "execution_count": 38,
   "id": "29f404c6-17a8-4519-8c2f-63f57bc70f17",
   "metadata": {},
   "outputs": [],
   "source": [
    "final_mod = RidgeClassifier(alpha=8)"
   ]
  },
  {
   "cell_type": "code",
   "execution_count": 39,
   "id": "74fbbce3-8846-4460-8f51-ed3ee8799571",
   "metadata": {},
   "outputs": [],
   "source": [
    "final_mod.fit(x_train, y_train)\n",
    "test_pred  =final_mod.predict(x_test)\n",
    "train_pred  =final_mod.predict(x_train)"
   ]
  },
  {
   "cell_type": "code",
   "execution_count": 40,
   "id": "9aeb75bf-8a20-460a-aa62-d58cb736d9b0",
   "metadata": {},
   "outputs": [
    {
     "name": "stdout",
     "output_type": "stream",
     "text": [
      "[[2851  308]\n",
      " [ 773 2355]]\n"
     ]
    }
   ],
   "source": [
    "from sklearn.metrics import confusion_matrix\n",
    "confusion_matrix = confusion_matrix(y_train,train_pred)\n",
    "print(confusion_matrix)"
   ]
  },
  {
   "cell_type": "code",
   "execution_count": 41,
   "id": "c3ac7f51-f1f8-4e2e-aa48-1412d0c76c85",
   "metadata": {},
   "outputs": [
    {
     "name": "stdout",
     "output_type": "stream",
     "text": [
      "[[1197  135]\n",
      " [ 363 1000]]\n"
     ]
    }
   ],
   "source": [
    "from sklearn.metrics import confusion_matrix\n",
    "confusion_matrix = confusion_matrix(y_test,test_pred)\n",
    "print(confusion_matrix)"
   ]
  },
  {
   "cell_type": "code",
   "execution_count": 42,
   "id": "97b41284-9174-471f-a7de-5798241c9193",
   "metadata": {},
   "outputs": [],
   "source": [
    "from sklearn.metrics import accuracy_score,f1_score,precision_score,recall_score\n",
    "t_accuracy = accuracy_score(y_train,train_pred)\n",
    "t_f1 = f1_score(y_train, train_pred )\n",
    "t_precision = precision_score(y_train, train_pred )\n",
    "t_recall = recall_score(y_train, train_pred )\n",
    "accuracy = accuracy_score(y_test,test_pred)\n",
    "f1 = f1_score(y_test, test_pred )\n",
    "precision = precision_score(y_test, test_pred )\n",
    "recall = recall_score(y_test, test_pred )"
   ]
  },
  {
   "cell_type": "code",
   "execution_count": 43,
   "id": "17d015ad-fe39-4087-9ccd-cfdfc02d00f2",
   "metadata": {},
   "outputs": [
    {
     "name": "stdout",
     "output_type": "stream",
     "text": [
      "Train\n",
      " Accuracy is  : 0.8280578972482902\n",
      " Precision is  : 0.8843409688321442\n",
      " Recall is  : 0.7528772378516624\n",
      " F1 score is : 0.8133310309100328\n",
      "test\n",
      " Accuracy is  : 0.8152133580705009\n",
      " Precision is  : 0.8810572687224669\n",
      " Recall is  : 0.7336757153338225\n",
      " F1 score is : 0.800640512409928\n"
     ]
    }
   ],
   "source": [
    "print('Train')\n",
    "print(' Accuracy is  :' ,t_accuracy)\n",
    "print(' Precision is  :',t_precision)\n",
    "print(' Recall is  :',t_recall)\n",
    "print(' F1 score is :' ,t_f1)\n",
    "print('test')\n",
    "print(' Accuracy is  :' ,accuracy)\n",
    "print(' Precision is  :',precision)\n",
    "print(' Recall is  :',recall)\n",
    "print(' F1 score is :' ,f1)"
   ]
  },
  {
   "cell_type": "markdown",
   "id": "1c619434-2f00-4a26-aeef-90c5d48a2c05",
   "metadata": {},
   "source": [
    "## Performing Logistic Regression"
   ]
  },
  {
   "cell_type": "code",
   "execution_count": 44,
   "id": "0b914718-1e73-4816-bc42-16de57f06e10",
   "metadata": {},
   "outputs": [],
   "source": [
    "# import logistic regression\n",
    "from sklearn.linear_model import LogisticRegression\n",
    "\n",
    "lr=LogisticRegression()\n",
    "# fit the model to the training data\n",
    "lr.fit(x_train,y_train)\n",
    "# Predict the response for test dataset\n",
    "test_pred  =lr.predict(x_test)\n",
    "train_pred  =lr.predict(x_train)"
   ]
  },
  {
   "cell_type": "markdown",
   "id": "16b26bbf-9ab5-472a-9eff-fb7991ce9796",
   "metadata": {},
   "source": [
    "### Confusion matrix for Train data"
   ]
  },
  {
   "cell_type": "code",
   "execution_count": 45,
   "id": "b05692be-2768-4133-8e2e-42b5483326c5",
   "metadata": {},
   "outputs": [
    {
     "name": "stdout",
     "output_type": "stream",
     "text": [
      "[[2732  427]\n",
      " [ 443 2685]]\n"
     ]
    }
   ],
   "source": [
    "from sklearn.metrics import confusion_matrix\n",
    "confusion_matrix = confusion_matrix(y_train,train_pred)\n",
    "print(confusion_matrix)"
   ]
  },
  {
   "cell_type": "markdown",
   "id": "248fa08e-4240-4148-a258-6a22ca356ab4",
   "metadata": {},
   "source": [
    "### Confusion matrix for Test data"
   ]
  },
  {
   "cell_type": "code",
   "execution_count": 46,
   "id": "3ef2519e-7d90-480e-a715-ae696959f348",
   "metadata": {},
   "outputs": [
    {
     "name": "stdout",
     "output_type": "stream",
     "text": [
      "[[1175  157]\n",
      " [ 222 1141]]\n"
     ]
    }
   ],
   "source": [
    "from sklearn.metrics import confusion_matrix\n",
    "confusion_matrix = confusion_matrix(y_test,test_pred)\n",
    "print(confusion_matrix)"
   ]
  },
  {
   "cell_type": "markdown",
   "id": "b2b59646-6f32-46c8-adce-d3dbd072ee09",
   "metadata": {},
   "source": [
    "Accuracy_score,f1_score,precision_score,recall_score shows how good is our model"
   ]
  },
  {
   "cell_type": "raw",
   "id": "cfd05214-a0e1-454b-bf70-f5fa382c9295",
   "metadata": {},
   "source": [
    "1.Accuracy shows model performance"
   ]
  },
  {
   "cell_type": "raw",
   "id": "a0859c8c-b842-4284-8815-8066e1b16baa",
   "metadata": {},
   "source": [
    "2.Precision shows how many coronary heart patients were predicted right in advance out of total postitives"
   ]
  },
  {
   "cell_type": "raw",
   "id": "bac40835-f9d7-49f1-82c9-9e0beba9370e",
   "metadata": {},
   "source": [
    "3.Recall shows how many coronary heart patients were predicted right in advance out of total correct postives"
   ]
  },
  {
   "cell_type": "code",
   "execution_count": 47,
   "id": "d79e93b2-bf93-472e-be23-f5ccbed0c1af",
   "metadata": {},
   "outputs": [],
   "source": [
    "# Importing accuracy_score,f1_score,precision_score,recall_score\n",
    "from sklearn.metrics import accuracy_score,f1_score,precision_score,recall_score\n",
    "t_accuracy = accuracy_score(y_train,train_pred)\n",
    "t_f1 = f1_score(y_train, train_pred )\n",
    "t_precision = precision_score(y_train, train_pred )\n",
    "t_recall = recall_score(y_train, train_pred )\n",
    "accuracy = accuracy_score(y_test,test_pred)\n",
    "f1 = f1_score(y_test, test_pred )\n",
    "precision = precision_score(y_test, test_pred )\n",
    "recall = recall_score(y_test, test_pred )"
   ]
  },
  {
   "cell_type": "code",
   "execution_count": 48,
   "id": "a12af511-45c7-4657-81ab-32ffb751ed88",
   "metadata": {},
   "outputs": [
    {
     "name": "stdout",
     "output_type": "stream",
     "text": [
      "Train\n",
      " Accuracy is  : 0.8616192142516303\n",
      " Precision is  : 0.8627892030848329\n",
      " Recall is  : 0.8583759590792839\n",
      " F1 score is : 0.860576923076923\n",
      "test\n",
      " Accuracy is  : 0.859369202226345\n",
      " Precision is  : 0.8790446841294299\n",
      " Recall is  : 0.8371239911958914\n",
      " F1 score is : 0.8575723412251034\n"
     ]
    }
   ],
   "source": [
    "print('Train')\n",
    "print(' Accuracy is  :' ,t_accuracy)\n",
    "print(' Precision is  :',t_precision)\n",
    "print(' Recall is  :',t_recall)\n",
    "print(' F1 score is :' ,t_f1)\n",
    "print('test')\n",
    "print(' Accuracy is  :' ,accuracy)\n",
    "print(' Precision is  :',precision)\n",
    "print(' Recall is  :',recall)\n",
    "print(' F1 score is :' ,f1)"
   ]
  },
  {
   "cell_type": "raw",
   "id": "28a474c5-1948-4710-9ff8-76d4a3479c82",
   "metadata": {},
   "source": [
    "Accurcy is 85% so trying to improve the model"
   ]
  },
  {
   "cell_type": "markdown",
   "id": "56d385d5-59ae-4546-b77a-d20530a1a7d4",
   "metadata": {},
   "source": [
    "## Performing DecisionTreeClassifier"
   ]
  },
  {
   "cell_type": "code",
   "execution_count": 49,
   "id": "7aef0fb5-4790-4bee-9519-b93d19a4e0e0",
   "metadata": {},
   "outputs": [],
   "source": [
    "#Import Tree Classifier model\n",
    "from sklearn.tree import DecisionTreeClassifier\n",
    "\n",
    "dt = DecisionTreeClassifier()\n",
    "#Train the model using the training sets\n",
    "dt.fit(x_train, y_train)\n",
    "\n",
    "#Predict the response for test dataset\n",
    "test_pred = dt.predict(x_test)\n",
    "train_pred = dt.predict(x_train)"
   ]
  },
  {
   "cell_type": "markdown",
   "id": "1f0f8ab4-b001-4898-9519-d477c673d4f0",
   "metadata": {},
   "source": [
    "### Confusion matrix for Train data"
   ]
  },
  {
   "cell_type": "code",
   "execution_count": 50,
   "id": "75b88528-5174-48a2-a892-2b508e51328b",
   "metadata": {},
   "outputs": [
    {
     "name": "stdout",
     "output_type": "stream",
     "text": [
      "[[3144   15]\n",
      " [  44 3084]]\n"
     ]
    }
   ],
   "source": [
    "from sklearn.metrics import confusion_matrix\n",
    "confusion_matrix = confusion_matrix(y_train,train_pred)\n",
    "print(confusion_matrix)"
   ]
  },
  {
   "cell_type": "markdown",
   "id": "e10637a2-ff52-48f1-a183-d3f10e305e90",
   "metadata": {},
   "source": [
    "### Confusion matrix for Test data"
   ]
  },
  {
   "cell_type": "code",
   "execution_count": 51,
   "id": "7109f70b-c184-4e73-8534-23d09d6d5ac3",
   "metadata": {},
   "outputs": [
    {
     "name": "stdout",
     "output_type": "stream",
     "text": [
      "[[1117  215]\n",
      " [ 210 1153]]\n"
     ]
    }
   ],
   "source": [
    "from sklearn.metrics import confusion_matrix\n",
    "confusion_matrix = confusion_matrix(y_test,test_pred)\n",
    "print(confusion_matrix)"
   ]
  },
  {
   "cell_type": "code",
   "execution_count": 52,
   "id": "2f085dd3-857f-43f5-988d-44c40b5dfd06",
   "metadata": {},
   "outputs": [],
   "source": [
    "t_accuracy = accuracy_score(y_train,train_pred)\n",
    "t_f1 = f1_score(y_train, train_pred )\n",
    "t_precision = precision_score(y_train, train_pred )\n",
    "t_recall = recall_score(y_train, train_pred )\n",
    "accuracy = accuracy_score(y_test,test_pred)\n",
    "f1 = f1_score(y_test, test_pred )\n",
    "precision = precision_score(y_test, test_pred )\n",
    "recall = recall_score(y_test, test_pred )"
   ]
  },
  {
   "cell_type": "code",
   "execution_count": 53,
   "id": "769c9736-d230-4a58-a522-3d167ba30f45",
   "metadata": {},
   "outputs": [
    {
     "name": "stdout",
     "output_type": "stream",
     "text": [
      "Train\n",
      " Accuracy is  : 0.9906155559090186\n",
      " Precision is  : 0.995159728944821\n",
      " Recall is  : 0.9859335038363172\n",
      " F1 score is : 0.9905251324875542\n",
      "test\n",
      " Accuracy is  : 0.8423005565862709\n",
      " Precision is  : 0.8428362573099415\n",
      " Recall is  : 0.8459280997798972\n",
      " F1 score is : 0.8443793482240937\n"
     ]
    }
   ],
   "source": [
    "print('Train')\n",
    "print(' Accuracy is  :' ,t_accuracy)\n",
    "print(' Precision is  :',t_precision)\n",
    "print(' Recall is  :',t_recall)\n",
    "print(' F1 score is :' ,t_f1)\n",
    "print('test')\n",
    "print(' Accuracy is  :' ,accuracy)\n",
    "print(' Precision is  :',precision)\n",
    "print(' Recall is  :',recall)\n",
    "print(' F1 score is :' ,f1)"
   ]
  },
  {
   "cell_type": "raw",
   "id": "8ceda75d-d66f-403b-859d-a1d67c0112a8",
   "metadata": {},
   "source": [
    "Accuracy is now at 84%"
   ]
  },
  {
   "cell_type": "markdown",
   "id": "11a1cc6a-c058-47a8-a935-ee0582b010af",
   "metadata": {},
   "source": [
    "## Performing RandomForestClassifier"
   ]
  },
  {
   "cell_type": "code",
   "execution_count": 54,
   "id": "cda5ef0b-8cf2-4c09-8a1f-4e923aa7c4e7",
   "metadata": {},
   "outputs": [],
   "source": [
    "#import random forest. It reduces the variance by averaging the results of multiple decision trees\n",
    "from sklearn.ensemble import RandomForestClassifier\n",
    "\n",
    "# build a classifier\n",
    "rf = RandomForestClassifier(n_estimators=100)\n",
    "\n",
    "#Train the model using the training sets\n",
    "rf.fit(x_train, y_train)\n",
    "\n",
    "#Predict the response for test dataset\n",
    "test_pred = rf.predict(x_test)\n",
    "train_pred = rf.predict(x_train)"
   ]
  },
  {
   "cell_type": "markdown",
   "id": "44f4fa75-21f4-46ba-abcf-2c405c3e2422",
   "metadata": {},
   "source": [
    "### Confusion matrix for Train data"
   ]
  },
  {
   "cell_type": "code",
   "execution_count": 55,
   "id": "49dfb103-0cdb-483e-aa81-e21017d642af",
   "metadata": {},
   "outputs": [
    {
     "name": "stdout",
     "output_type": "stream",
     "text": [
      "[[3140   19]\n",
      " [  40 3088]]\n"
     ]
    }
   ],
   "source": [
    "from sklearn.metrics import confusion_matrix\n",
    "confusion_matrix = confusion_matrix(y_train,train_pred)\n",
    "print(confusion_matrix)"
   ]
  },
  {
   "cell_type": "markdown",
   "id": "8a0ed476-36f5-4e4e-9a8c-49f96e0c6475",
   "metadata": {},
   "source": [
    "### Confusion matrix for Test data"
   ]
  },
  {
   "cell_type": "code",
   "execution_count": 56,
   "id": "001faae9-a39e-415a-8283-0aa4154ba26a",
   "metadata": {},
   "outputs": [
    {
     "name": "stdout",
     "output_type": "stream",
     "text": [
      "[[1155  177]\n",
      " [ 109 1254]]\n"
     ]
    }
   ],
   "source": [
    "from sklearn.metrics import confusion_matrix\n",
    "confusion_matrix = confusion_matrix(y_test,test_pred)\n",
    "print(confusion_matrix)"
   ]
  },
  {
   "cell_type": "code",
   "execution_count": 57,
   "id": "9951b9d2-a335-4750-b810-f0ad7f4860fb",
   "metadata": {},
   "outputs": [],
   "source": [
    "t_accuracy = accuracy_score(y_train,train_pred)\n",
    "t_f1 = f1_score(y_train, train_pred )\n",
    "t_precision = precision_score(y_train, train_pred )\n",
    "t_recall = recall_score(y_train, train_pred )\n",
    "accuracy = accuracy_score(y_test,test_pred)\n",
    "f1 = f1_score(y_test, test_pred )\n",
    "precision = precision_score(y_test, test_pred )\n",
    "recall = recall_score(y_test, test_pred )"
   ]
  },
  {
   "cell_type": "code",
   "execution_count": 58,
   "id": "89f2c4a2-e0c8-45db-974a-48eba70022fc",
   "metadata": {},
   "outputs": [
    {
     "name": "stdout",
     "output_type": "stream",
     "text": [
      "Train\n",
      " Accuracy is  : 0.9906155559090186\n",
      " Precision is  : 0.9938847763115546\n",
      " Recall is  : 0.9872122762148338\n",
      " F1 score is : 0.9905372894947876\n",
      "test\n",
      " Accuracy is  : 0.8938775510204081\n",
      " Precision is  : 0.8763102725366876\n",
      " Recall is  : 0.9200293470286134\n",
      " F1 score is : 0.8976377952755905\n"
     ]
    }
   ],
   "source": [
    "print('Train')\n",
    "print(' Accuracy is  :' ,t_accuracy)\n",
    "print(' Precision is  :',t_precision)\n",
    "print(' Recall is  :',t_recall)\n",
    "print(' F1 score is :' ,t_f1)\n",
    "print('test')\n",
    "print(' Accuracy is  :' ,accuracy)\n",
    "print(' Precision is  :',precision)\n",
    "print(' Recall is  :',recall)\n",
    "print(' F1 score is :' ,f1)"
   ]
  },
  {
   "cell_type": "raw",
   "id": "2fcc3855-4403-48d0-b8fc-b2681ef6e45a",
   "metadata": {},
   "source": [
    "Accuracy and Recall are high. That means the model is good."
   ]
  },
  {
   "cell_type": "markdown",
   "id": "70ca7c06-6336-47c1-9fdf-b2b8ee87af0b",
   "metadata": {},
   "source": [
    "## performing KNearestNeighborsClassifier"
   ]
  },
  {
   "cell_type": "code",
   "execution_count": 59,
   "id": "e8f6764f-ab0f-4da7-bfdf-b18bbb236974",
   "metadata": {},
   "outputs": [],
   "source": [
    "from sklearn.neighbors import KNeighborsClassifier\n",
    "\n",
    "knn = KNeighborsClassifier(n_neighbors=3)\n",
    "#Train the model using the training sets\n",
    "knn.fit(x_train, y_train)\n",
    "\n",
    "#Predict the response for test dataset\n",
    "test_pred = knn.predict(x_test)\n",
    "train_pred = knn.predict(x_train)"
   ]
  },
  {
   "cell_type": "markdown",
   "id": "196924d9-91a0-4d4e-995b-7b2d1849d969",
   "metadata": {},
   "source": [
    "### Confusion matrix for Train data"
   ]
  },
  {
   "cell_type": "code",
   "execution_count": 60,
   "id": "cd4143dd-8938-4070-bc97-d85e6a8f4c7f",
   "metadata": {},
   "outputs": [
    {
     "name": "stdout",
     "output_type": "stream",
     "text": [
      "[[2809  350]\n",
      " [ 152 2976]]\n"
     ]
    }
   ],
   "source": [
    "from sklearn.metrics import confusion_matrix\n",
    "confusion_matrix = confusion_matrix(y_train,train_pred)\n",
    "print(confusion_matrix)"
   ]
  },
  {
   "cell_type": "markdown",
   "id": "6d95f6d9-3b38-48c7-a3f0-f19c0cb8f049",
   "metadata": {},
   "source": [
    "### Confusion matrix for Test data"
   ]
  },
  {
   "cell_type": "code",
   "execution_count": 61,
   "id": "77a823d1-b6f2-4c86-b4e0-57878dd84ef8",
   "metadata": {},
   "outputs": [
    {
     "name": "stdout",
     "output_type": "stream",
     "text": [
      "[[1105  227]\n",
      " [ 132 1231]]\n"
     ]
    }
   ],
   "source": [
    "from sklearn.metrics import confusion_matrix\n",
    "confusion_matrix = confusion_matrix(y_test,test_pred)\n",
    "print(confusion_matrix)"
   ]
  },
  {
   "cell_type": "code",
   "execution_count": 62,
   "id": "01595c44-84d1-4f89-8a67-d62289d67526",
   "metadata": {},
   "outputs": [],
   "source": [
    "t_accuracy = accuracy_score(y_train,train_pred)\n",
    "t_f1 = f1_score(y_train, train_pred )\n",
    "t_precision = precision_score(y_train, train_pred )\n",
    "t_recall = recall_score(y_train, train_pred )\n",
    "accuracy = accuracy_score(y_test,test_pred)\n",
    "f1 = f1_score(y_test, test_pred )\n",
    "precision = precision_score(y_test, test_pred )\n",
    "recall = recall_score(y_test, test_pred )"
   ]
  },
  {
   "cell_type": "code",
   "execution_count": 63,
   "id": "425dd363-a14c-400f-95f5-5bb1b22293cf",
   "metadata": {},
   "outputs": [
    {
     "name": "stdout",
     "output_type": "stream",
     "text": [
      "Train\n",
      " Accuracy is  : 0.9201526960394465\n",
      " Precision is  : 0.8947684906794949\n",
      " Recall is  : 0.9514066496163683\n",
      " F1 score is : 0.9222187790517509\n",
      "test\n",
      " Accuracy is  : 0.8667903525046382\n",
      " Precision is  : 0.8443072702331962\n",
      " Recall is  : 0.9031548055759354\n",
      " F1 score is : 0.8727401630627437\n"
     ]
    }
   ],
   "source": [
    "print('Train')\n",
    "print(' Accuracy is  :' ,t_accuracy)\n",
    "print(' Precision is  :',t_precision)\n",
    "print(' Recall is  :',t_recall)\n",
    "print(' F1 score is :' ,t_f1)\n",
    "print('test')\n",
    "print(' Accuracy is  :' ,accuracy)\n",
    "print(' Precision is  :',precision)\n",
    "print(' Recall is  :',recall)\n",
    "print(' F1 score is :' ,f1)"
   ]
  },
  {
   "cell_type": "raw",
   "id": "1ecea1d7-1bfa-45fe-9174-4414db6909c1",
   "metadata": {},
   "source": [
    "Accuracy is lower than RF"
   ]
  },
  {
   "cell_type": "markdown",
   "id": "486f0472-71c6-471a-a3cc-a299ead2674a",
   "metadata": {},
   "source": [
    "## performing SupportVectorMachineClassifier"
   ]
  },
  {
   "cell_type": "code",
   "execution_count": 65,
   "id": "009951bc-d633-4cff-aac0-7528e4829f36",
   "metadata": {},
   "outputs": [],
   "source": [
    "\n",
    "from sklearn.svm import SVC\n",
    "classifier = SVC(kernel = 'linear', random_state = 0)\n",
    "classifier.fit(x_train, y_train)\n",
    "\n",
    "#predicting the Test set results\n",
    "test_pred = classifier.predict(x_test)\n",
    "train_pred = classifier.predict(x_train)"
   ]
  },
  {
   "cell_type": "markdown",
   "id": "6f92e9b2-8ad9-4a22-b7d0-e46a675e8278",
   "metadata": {},
   "source": [
    "### Confusion matrix for Train data"
   ]
  },
  {
   "cell_type": "code",
   "execution_count": 66,
   "id": "0adecb86-3551-47f8-9fc5-bfa86d404ab2",
   "metadata": {},
   "outputs": [
    {
     "name": "stdout",
     "output_type": "stream",
     "text": [
      "[[2790  369]\n",
      " [ 486 2642]]\n"
     ]
    }
   ],
   "source": [
    "from sklearn.metrics import confusion_matrix\n",
    "confusion_matrix = confusion_matrix(y_train,train_pred)\n",
    "print(confusion_matrix)"
   ]
  },
  {
   "cell_type": "markdown",
   "id": "519bdd8e-96ba-4bc5-94b6-535200064e2a",
   "metadata": {},
   "source": [
    "### Confusion matrix for Test data"
   ]
  },
  {
   "cell_type": "code",
   "execution_count": 67,
   "id": "e55377a8-a7a2-4f74-b512-c2e77d9c42e7",
   "metadata": {},
   "outputs": [
    {
     "name": "stdout",
     "output_type": "stream",
     "text": [
      "[[1185  147]\n",
      " [ 238 1125]]\n"
     ]
    }
   ],
   "source": [
    "from sklearn.metrics import confusion_matrix\n",
    "confusion_matrix = confusion_matrix(y_test,test_pred)\n",
    "print(confusion_matrix)"
   ]
  },
  {
   "cell_type": "code",
   "execution_count": 68,
   "id": "bba4695a-2d54-4081-86e7-b34bff4d1265",
   "metadata": {},
   "outputs": [],
   "source": [
    "t_accuracy = accuracy_score(y_train,train_pred)\n",
    "t_f1 = f1_score(y_train, train_pred )\n",
    "t_precision = precision_score(y_train, train_pred )\n",
    "t_recall = recall_score(y_train, train_pred )\n",
    "accuracy = accuracy_score(y_test,test_pred)\n",
    "f1 = f1_score(y_test, test_pred )\n",
    "precision = precision_score(y_test, test_pred )\n",
    "recall = recall_score(y_test, test_pred )"
   ]
  },
  {
   "cell_type": "code",
   "execution_count": 69,
   "id": "44aa01bb-f927-4f22-898f-df802f5f85c6",
   "metadata": {},
   "outputs": [
    {
     "name": "stdout",
     "output_type": "stream",
     "text": [
      "Train\n",
      " Accuracy is  : 0.8640050898679815\n",
      " Precision is  : 0.8774493523746264\n",
      " Recall is  : 0.8446291560102301\n",
      " F1 score is : 0.8607265026877341\n",
      "test\n",
      " Accuracy is  : 0.8571428571428571\n",
      " Precision is  : 0.8844339622641509\n",
      " Recall is  : 0.8253851797505503\n",
      " F1 score is : 0.8538899430740037\n"
     ]
    }
   ],
   "source": [
    "print('Train')\n",
    "print(' Accuracy is  :' ,t_accuracy)\n",
    "print(' Precision is  :',t_precision)\n",
    "print(' Recall is  :',t_recall)\n",
    "print(' F1 score is :' ,t_f1)\n",
    "print('test')\n",
    "print(' Accuracy is  :' ,accuracy)\n",
    "print(' Precision is  :',precision)\n",
    "print(' Recall is  :',recall)\n",
    "print(' F1 score is :' ,f1)"
   ]
  },
  {
   "cell_type": "markdown",
   "id": "e9692210-de5b-41b6-89c4-8fd96558faec",
   "metadata": {},
   "source": [
    "## performing NaiveBayes Classifier"
   ]
  },
  {
   "cell_type": "code",
   "execution_count": 71,
   "id": "20b7a35e-39b5-435e-98ec-ae085a89dc6c",
   "metadata": {},
   "outputs": [],
   "source": [
    "#\n",
    "from sklearn.naive_bayes import GaussianNB\n",
    "classifier = GaussianNB()\n",
    "classifier.fit(x_train, y_train)\n",
    "\n",
    "#predicting the Test set results\n",
    "test_pred = classifier.predict(x_test)\n",
    "train_pred = classifier.predict(x_train)"
   ]
  },
  {
   "cell_type": "markdown",
   "id": "60fe69b3-e9f5-4c65-bbd6-0d311dc73f1c",
   "metadata": {},
   "source": [
    "### Confusion matrix for Train data"
   ]
  },
  {
   "cell_type": "code",
   "execution_count": 72,
   "id": "5cbf2bcd-c154-410a-b0a3-5c7ccdd4f417",
   "metadata": {},
   "outputs": [
    {
     "name": "stdout",
     "output_type": "stream",
     "text": [
      "[[2904  255]\n",
      " [1563 1565]]\n"
     ]
    }
   ],
   "source": [
    "from sklearn.metrics import confusion_matrix\n",
    "confusion_matrix = confusion_matrix(y_train,train_pred)\n",
    "print(confusion_matrix)"
   ]
  },
  {
   "cell_type": "markdown",
   "id": "9eb64f88-dfb9-4631-b10f-8b66153e75ea",
   "metadata": {},
   "source": [
    "### Confusion matrix for Test data"
   ]
  },
  {
   "cell_type": "code",
   "execution_count": 73,
   "id": "27d76102-6da8-41bd-9eb5-83089fae011c",
   "metadata": {},
   "outputs": [
    {
     "name": "stdout",
     "output_type": "stream",
     "text": [
      "[[1200  132]\n",
      " [ 660  703]]\n"
     ]
    }
   ],
   "source": [
    "from sklearn.metrics import confusion_matrix\n",
    "confusion_matrix = confusion_matrix(y_test,test_pred)\n",
    "print(confusion_matrix)"
   ]
  },
  {
   "cell_type": "code",
   "execution_count": 74,
   "id": "38c07977-c375-4060-9737-5902e3a7e89f",
   "metadata": {},
   "outputs": [],
   "source": [
    "t_accuracy = accuracy_score(y_train,train_pred)\n",
    "t_f1 = f1_score(y_train, train_pred )\n",
    "t_precision = precision_score(y_train, train_pred )\n",
    "t_recall = recall_score(y_train, train_pred )\n",
    "accuracy = accuracy_score(y_test,test_pred)\n",
    "f1 = f1_score(y_test, test_pred )\n",
    "precision = precision_score(y_test, test_pred )\n",
    "recall = recall_score(y_test, test_pred )"
   ]
  },
  {
   "cell_type": "code",
   "execution_count": 75,
   "id": "f44cbc27-c219-4132-88a7-ce51cbbb8044",
   "metadata": {},
   "outputs": [
    {
     "name": "stdout",
     "output_type": "stream",
     "text": [
      "Train\n",
      " Accuracy is  : 0.7108318752982344\n",
      " Precision is  : 0.8598901098901099\n",
      " Recall is  : 0.5003196930946292\n",
      " F1 score is : 0.6325788197251415\n",
      "test\n",
      " Accuracy is  : 0.7061224489795919\n",
      " Precision is  : 0.8419161676646707\n",
      " Recall is  : 0.5157740278796772\n",
      " F1 score is : 0.6396724294813467\n"
     ]
    }
   ],
   "source": [
    "print('Train')\n",
    "print(' Accuracy is  :' ,t_accuracy)\n",
    "print(' Precision is  :',t_precision)\n",
    "print(' Recall is  :',t_recall)\n",
    "print(' F1 score is :' ,t_f1)\n",
    "print('test')\n",
    "print(' Accuracy is  :' ,accuracy)\n",
    "print(' Precision is  :',precision)\n",
    "print(' Recall is  :',recall)\n",
    "print(' F1 score is :' ,f1)"
   ]
  },
  {
   "cell_type": "markdown",
   "id": "87d1af64-ec7f-4258-9f5f-245fd3e72c0a",
   "metadata": {},
   "source": [
    "### Random Forest classifier is better model"
   ]
  },
  {
   "cell_type": "markdown",
   "id": "68d8b259-6761-4020-a064-8b70ffe3895a",
   "metadata": {},
   "source": [
    "## Finished"
   ]
  }
 ],
 "metadata": {
  "kernelspec": {
   "display_name": "Python 3",
   "language": "python",
   "name": "python3"
  },
  "language_info": {
   "codemirror_mode": {
    "name": "ipython",
    "version": 3
   },
   "file_extension": ".py",
   "mimetype": "text/x-python",
   "name": "python",
   "nbconvert_exporter": "python",
   "pygments_lexer": "ipython3",
   "version": "3.8.8"
  }
 },
 "nbformat": 4,
 "nbformat_minor": 5
}
